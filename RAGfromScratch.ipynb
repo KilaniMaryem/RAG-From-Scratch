{
  "cells": [
    {
      "cell_type": "markdown",
      "metadata": {
        "id": "tk3dTaKUtPle"
      },
      "source": [
        "local from scratch: not using llamaindex or langchain"
      ]
    },
    {
      "cell_type": "markdown",
      "metadata": {
        "id": "5kNX3bN5vWIq"
      },
      "source": [
        "# Librairies Installation"
      ]
    },
    {
      "cell_type": "code",
      "execution_count": 1,
      "metadata": {
        "colab": {
          "base_uri": "https://localhost:8080/"
        },
        "id": "sJu4b0iUpO3O",
        "outputId": "3fa026e5-b753-4441-b5f6-3081bd22f41f"
      },
      "outputs": [
        {
          "output_type": "stream",
          "name": "stdout",
          "text": [
            "Requirement already satisfied: torch in /usr/local/lib/python3.10/dist-packages (2.4.1+cu121)\n",
            "Requirement already satisfied: filelock in /usr/local/lib/python3.10/dist-packages (from torch) (3.16.0)\n",
            "Requirement already satisfied: typing-extensions>=4.8.0 in /usr/local/lib/python3.10/dist-packages (from torch) (4.12.2)\n",
            "Requirement already satisfied: sympy in /usr/local/lib/python3.10/dist-packages (from torch) (1.13.2)\n",
            "Requirement already satisfied: networkx in /usr/local/lib/python3.10/dist-packages (from torch) (3.3)\n",
            "Requirement already satisfied: jinja2 in /usr/local/lib/python3.10/dist-packages (from torch) (3.1.4)\n",
            "Requirement already satisfied: fsspec in /usr/local/lib/python3.10/dist-packages (from torch) (2024.6.1)\n",
            "Requirement already satisfied: MarkupSafe>=2.0 in /usr/local/lib/python3.10/dist-packages (from jinja2->torch) (2.1.5)\n",
            "Requirement already satisfied: mpmath<1.4,>=1.1.0 in /usr/local/lib/python3.10/dist-packages (from sympy->torch) (1.3.0)\n",
            "Collecting PyMuPDF\n",
            "  Downloading PyMuPDF-1.24.10-cp310-none-manylinux2014_x86_64.whl.metadata (3.4 kB)\n",
            "Collecting PyMuPDFb==1.24.10 (from PyMuPDF)\n",
            "  Downloading PyMuPDFb-1.24.10-py3-none-manylinux2014_x86_64.manylinux_2_17_x86_64.whl.metadata (1.4 kB)\n",
            "Downloading PyMuPDF-1.24.10-cp310-none-manylinux2014_x86_64.whl (3.5 MB)\n",
            "\u001b[2K   \u001b[90m━━━━━━━━━━━━━━━━━━━━━━━━━━━━━━━━━━━━━━━━\u001b[0m \u001b[32m3.5/3.5 MB\u001b[0m \u001b[31m42.4 MB/s\u001b[0m eta \u001b[36m0:00:00\u001b[0m\n",
            "\u001b[?25hDownloading PyMuPDFb-1.24.10-py3-none-manylinux2014_x86_64.manylinux_2_17_x86_64.whl (15.9 MB)\n",
            "\u001b[2K   \u001b[90m━━━━━━━━━━━━━━━━━━━━━━━━━━━━━━━━━━━━━━━━\u001b[0m \u001b[32m15.9/15.9 MB\u001b[0m \u001b[31m86.5 MB/s\u001b[0m eta \u001b[36m0:00:00\u001b[0m\n",
            "\u001b[?25hInstalling collected packages: PyMuPDFb, PyMuPDF\n",
            "Successfully installed PyMuPDF-1.24.10 PyMuPDFb-1.24.10\n",
            "Requirement already satisfied: tqdm in /usr/local/lib/python3.10/dist-packages (4.66.5)\n",
            "Collecting sentence-transformers\n",
            "  Downloading sentence_transformers-3.1.1-py3-none-any.whl.metadata (10 kB)\n",
            "Requirement already satisfied: transformers<5.0.0,>=4.38.0 in /usr/local/lib/python3.10/dist-packages (from sentence-transformers) (4.44.2)\n",
            "Requirement already satisfied: tqdm in /usr/local/lib/python3.10/dist-packages (from sentence-transformers) (4.66.5)\n",
            "Requirement already satisfied: torch>=1.11.0 in /usr/local/lib/python3.10/dist-packages (from sentence-transformers) (2.4.1+cu121)\n",
            "Requirement already satisfied: scikit-learn in /usr/local/lib/python3.10/dist-packages (from sentence-transformers) (1.3.2)\n",
            "Requirement already satisfied: scipy in /usr/local/lib/python3.10/dist-packages (from sentence-transformers) (1.13.1)\n",
            "Requirement already satisfied: huggingface-hub>=0.19.3 in /usr/local/lib/python3.10/dist-packages (from sentence-transformers) (0.24.7)\n",
            "Requirement already satisfied: Pillow in /usr/local/lib/python3.10/dist-packages (from sentence-transformers) (10.4.0)\n",
            "Requirement already satisfied: filelock in /usr/local/lib/python3.10/dist-packages (from huggingface-hub>=0.19.3->sentence-transformers) (3.16.0)\n",
            "Requirement already satisfied: fsspec>=2023.5.0 in /usr/local/lib/python3.10/dist-packages (from huggingface-hub>=0.19.3->sentence-transformers) (2024.6.1)\n",
            "Requirement already satisfied: packaging>=20.9 in /usr/local/lib/python3.10/dist-packages (from huggingface-hub>=0.19.3->sentence-transformers) (24.1)\n",
            "Requirement already satisfied: pyyaml>=5.1 in /usr/local/lib/python3.10/dist-packages (from huggingface-hub>=0.19.3->sentence-transformers) (6.0.2)\n",
            "Requirement already satisfied: requests in /usr/local/lib/python3.10/dist-packages (from huggingface-hub>=0.19.3->sentence-transformers) (2.32.3)\n",
            "Requirement already satisfied: typing-extensions>=3.7.4.3 in /usr/local/lib/python3.10/dist-packages (from huggingface-hub>=0.19.3->sentence-transformers) (4.12.2)\n",
            "Requirement already satisfied: sympy in /usr/local/lib/python3.10/dist-packages (from torch>=1.11.0->sentence-transformers) (1.13.2)\n",
            "Requirement already satisfied: networkx in /usr/local/lib/python3.10/dist-packages (from torch>=1.11.0->sentence-transformers) (3.3)\n",
            "Requirement already satisfied: jinja2 in /usr/local/lib/python3.10/dist-packages (from torch>=1.11.0->sentence-transformers) (3.1.4)\n",
            "Requirement already satisfied: numpy>=1.17 in /usr/local/lib/python3.10/dist-packages (from transformers<5.0.0,>=4.38.0->sentence-transformers) (1.26.4)\n",
            "Requirement already satisfied: regex!=2019.12.17 in /usr/local/lib/python3.10/dist-packages (from transformers<5.0.0,>=4.38.0->sentence-transformers) (2024.9.11)\n",
            "Requirement already satisfied: safetensors>=0.4.1 in /usr/local/lib/python3.10/dist-packages (from transformers<5.0.0,>=4.38.0->sentence-transformers) (0.4.5)\n",
            "Requirement already satisfied: tokenizers<0.20,>=0.19 in /usr/local/lib/python3.10/dist-packages (from transformers<5.0.0,>=4.38.0->sentence-transformers) (0.19.1)\n",
            "Requirement already satisfied: joblib>=1.1.1 in /usr/local/lib/python3.10/dist-packages (from scikit-learn->sentence-transformers) (1.4.2)\n",
            "Requirement already satisfied: threadpoolctl>=2.0.0 in /usr/local/lib/python3.10/dist-packages (from scikit-learn->sentence-transformers) (3.5.0)\n",
            "Requirement already satisfied: MarkupSafe>=2.0 in /usr/local/lib/python3.10/dist-packages (from jinja2->torch>=1.11.0->sentence-transformers) (2.1.5)\n",
            "Requirement already satisfied: charset-normalizer<4,>=2 in /usr/local/lib/python3.10/dist-packages (from requests->huggingface-hub>=0.19.3->sentence-transformers) (3.3.2)\n",
            "Requirement already satisfied: idna<4,>=2.5 in /usr/local/lib/python3.10/dist-packages (from requests->huggingface-hub>=0.19.3->sentence-transformers) (3.10)\n",
            "Requirement already satisfied: urllib3<3,>=1.21.1 in /usr/local/lib/python3.10/dist-packages (from requests->huggingface-hub>=0.19.3->sentence-transformers) (2.0.7)\n",
            "Requirement already satisfied: certifi>=2017.4.17 in /usr/local/lib/python3.10/dist-packages (from requests->huggingface-hub>=0.19.3->sentence-transformers) (2024.8.30)\n",
            "Requirement already satisfied: mpmath<1.4,>=1.1.0 in /usr/local/lib/python3.10/dist-packages (from sympy->torch>=1.11.0->sentence-transformers) (1.3.0)\n",
            "Downloading sentence_transformers-3.1.1-py3-none-any.whl (245 kB)\n",
            "\u001b[2K   \u001b[90m━━━━━━━━━━━━━━━━━━━━━━━━━━━━━━━━━━━━━━━━\u001b[0m \u001b[32m245.3/245.3 kB\u001b[0m \u001b[31m3.9 MB/s\u001b[0m eta \u001b[36m0:00:00\u001b[0m\n",
            "\u001b[?25hInstalling collected packages: sentence-transformers\n",
            "Successfully installed sentence-transformers-3.1.1\n",
            "Requirement already satisfied: accelerate in /usr/local/lib/python3.10/dist-packages (0.34.2)\n",
            "Requirement already satisfied: numpy<3.0.0,>=1.17 in /usr/local/lib/python3.10/dist-packages (from accelerate) (1.26.4)\n",
            "Requirement already satisfied: packaging>=20.0 in /usr/local/lib/python3.10/dist-packages (from accelerate) (24.1)\n",
            "Requirement already satisfied: psutil in /usr/local/lib/python3.10/dist-packages (from accelerate) (5.9.5)\n",
            "Requirement already satisfied: pyyaml in /usr/local/lib/python3.10/dist-packages (from accelerate) (6.0.2)\n",
            "Requirement already satisfied: torch>=1.10.0 in /usr/local/lib/python3.10/dist-packages (from accelerate) (2.4.1+cu121)\n",
            "Requirement already satisfied: huggingface-hub>=0.21.0 in /usr/local/lib/python3.10/dist-packages (from accelerate) (0.24.7)\n",
            "Requirement already satisfied: safetensors>=0.4.3 in /usr/local/lib/python3.10/dist-packages (from accelerate) (0.4.5)\n",
            "Requirement already satisfied: filelock in /usr/local/lib/python3.10/dist-packages (from huggingface-hub>=0.21.0->accelerate) (3.16.0)\n",
            "Requirement already satisfied: fsspec>=2023.5.0 in /usr/local/lib/python3.10/dist-packages (from huggingface-hub>=0.21.0->accelerate) (2024.6.1)\n",
            "Requirement already satisfied: requests in /usr/local/lib/python3.10/dist-packages (from huggingface-hub>=0.21.0->accelerate) (2.32.3)\n",
            "Requirement already satisfied: tqdm>=4.42.1 in /usr/local/lib/python3.10/dist-packages (from huggingface-hub>=0.21.0->accelerate) (4.66.5)\n",
            "Requirement already satisfied: typing-extensions>=3.7.4.3 in /usr/local/lib/python3.10/dist-packages (from huggingface-hub>=0.21.0->accelerate) (4.12.2)\n",
            "Requirement already satisfied: sympy in /usr/local/lib/python3.10/dist-packages (from torch>=1.10.0->accelerate) (1.13.2)\n",
            "Requirement already satisfied: networkx in /usr/local/lib/python3.10/dist-packages (from torch>=1.10.0->accelerate) (3.3)\n",
            "Requirement already satisfied: jinja2 in /usr/local/lib/python3.10/dist-packages (from torch>=1.10.0->accelerate) (3.1.4)\n",
            "Requirement already satisfied: MarkupSafe>=2.0 in /usr/local/lib/python3.10/dist-packages (from jinja2->torch>=1.10.0->accelerate) (2.1.5)\n",
            "Requirement already satisfied: charset-normalizer<4,>=2 in /usr/local/lib/python3.10/dist-packages (from requests->huggingface-hub>=0.21.0->accelerate) (3.3.2)\n",
            "Requirement already satisfied: idna<4,>=2.5 in /usr/local/lib/python3.10/dist-packages (from requests->huggingface-hub>=0.21.0->accelerate) (3.10)\n",
            "Requirement already satisfied: urllib3<3,>=1.21.1 in /usr/local/lib/python3.10/dist-packages (from requests->huggingface-hub>=0.21.0->accelerate) (2.0.7)\n",
            "Requirement already satisfied: certifi>=2017.4.17 in /usr/local/lib/python3.10/dist-packages (from requests->huggingface-hub>=0.21.0->accelerate) (2024.8.30)\n",
            "Requirement already satisfied: mpmath<1.4,>=1.1.0 in /usr/local/lib/python3.10/dist-packages (from sympy->torch>=1.10.0->accelerate) (1.3.0)\n",
            "Collecting bitsandbytes\n",
            "  Downloading bitsandbytes-0.43.3-py3-none-manylinux_2_24_x86_64.whl.metadata (3.5 kB)\n",
            "Requirement already satisfied: torch in /usr/local/lib/python3.10/dist-packages (from bitsandbytes) (2.4.1+cu121)\n",
            "Requirement already satisfied: numpy in /usr/local/lib/python3.10/dist-packages (from bitsandbytes) (1.26.4)\n",
            "Requirement already satisfied: filelock in /usr/local/lib/python3.10/dist-packages (from torch->bitsandbytes) (3.16.0)\n",
            "Requirement already satisfied: typing-extensions>=4.8.0 in /usr/local/lib/python3.10/dist-packages (from torch->bitsandbytes) (4.12.2)\n",
            "Requirement already satisfied: sympy in /usr/local/lib/python3.10/dist-packages (from torch->bitsandbytes) (1.13.2)\n",
            "Requirement already satisfied: networkx in /usr/local/lib/python3.10/dist-packages (from torch->bitsandbytes) (3.3)\n",
            "Requirement already satisfied: jinja2 in /usr/local/lib/python3.10/dist-packages (from torch->bitsandbytes) (3.1.4)\n",
            "Requirement already satisfied: fsspec in /usr/local/lib/python3.10/dist-packages (from torch->bitsandbytes) (2024.6.1)\n",
            "Requirement already satisfied: MarkupSafe>=2.0 in /usr/local/lib/python3.10/dist-packages (from jinja2->torch->bitsandbytes) (2.1.5)\n",
            "Requirement already satisfied: mpmath<1.4,>=1.1.0 in /usr/local/lib/python3.10/dist-packages (from sympy->torch->bitsandbytes) (1.3.0)\n",
            "Downloading bitsandbytes-0.43.3-py3-none-manylinux_2_24_x86_64.whl (137.5 MB)\n",
            "\u001b[2K   \u001b[90m━━━━━━━━━━━━━━━━━━━━━━━━━━━━━━━━━━━━━━━━\u001b[0m \u001b[32m137.5/137.5 MB\u001b[0m \u001b[31m7.0 MB/s\u001b[0m eta \u001b[36m0:00:00\u001b[0m\n",
            "\u001b[?25hInstalling collected packages: bitsandbytes\n",
            "Successfully installed bitsandbytes-0.43.3\n",
            "\n",
            "Usage:   \n",
            "  pip3 install [options] <requirement specifier> [package-index-options] ...\n",
            "  pip3 install [options] -r <requirements file> [package-index-options] ...\n",
            "  pip3 install [options] [-e] <vcs project url> ...\n",
            "  pip3 install [options] [-e] <local project path> ...\n",
            "  pip3 install [options] <archive url/path> ...\n",
            "\n",
            "option --timeout: invalid floating-point value: '1000#'\n"
          ]
        }
      ],
      "source": [
        "import os\n",
        "!pip install -U torch --timeout=1000\n",
        "!pip install PyMuPDF --timeout=1000\n",
        "!pip install tqdm --timeout=1000\n",
        "!pip install sentence-transformers --timeout=1000\n",
        "!pip install accelerate --timeout=1000 # for quantization model loading\n",
        "!pip install bitsandbytes --timeout=1000 # for quantizing models\n",
        "!pip install flash-attn --no-build-isolation --timeout=1000# for faster attention mechanism = faster LLM inference"
      ]
    },
    {
      "cell_type": "markdown",
      "metadata": {
        "id": "hnchSLwRvaux"
      },
      "source": [
        "# PDF Data Processing"
      ]
    },
    {
      "cell_type": "markdown",
      "metadata": {
        "id": "x6lGgeNu3Z1n"
      },
      "source": [
        "The process is as follows:\n",
        "1. Break the doc into pages\n",
        "2. Break the pages into sentences\n",
        "3. Break the sentences into chunks (To prevent overloading the embedding models capacity for tokens)"
      ]
    },
    {
      "cell_type": "markdown",
      "metadata": {
        "id": "MUWZ4Uf9ymUR"
      },
      "source": [
        "Tokens can be thought of as pieces of words. Before the API processes the request, the input is broken down into tokens. These tokens are not cut up exactly where the words start or end - tokens can include trailing spaces and even sub-words. Here are some helpful rules of thumb for understanding tokens in terms of lengths:\n",
        "\n",
        "1. **1 token ~= 4 chars in English**\n",
        "2. 1 token ~= ¾ words\n",
        "3. 100 tokens ~= 75 words"
      ]
    },
    {
      "cell_type": "code",
      "execution_count": 3,
      "metadata": {
        "colab": {
          "base_uri": "https://localhost:8080/"
        },
        "id": "BZRtWpqIxIA5",
        "outputId": "a2e2bb55-c32f-4bfc-8aed-30a58de56d7a"
      },
      "outputs": [
        {
          "output_type": "stream",
          "name": "stderr",
          "text": [
            "1208it [00:02, 416.19it/s]\n"
          ]
        }
      ],
      "source": [
        "doc_path='nutrition.pdf'\n",
        "import pymupdf\n",
        "from tqdm import tqdm\n",
        "def open_and_read_pdf(pdf_path):\n",
        "  def format(text) :\n",
        "    cleaned_text = text.replace(\"\\n\", \" \").strip()\n",
        "    cleaned_text = \" \".join(cleaned_text.split())\n",
        "    cleaned_text = cleaned_text.lower()\n",
        "    return cleaned_text\n",
        "  doc = pymupdf.open(doc_path)\n",
        "  pages_and_texts = []\n",
        "  for page_number, page in tqdm(enumerate(doc)):\n",
        "        text = page.get_text()\n",
        "        formatted_text = format(text)\n",
        "        pages_and_texts.append({\"page_number\": page_number+1,\n",
        "                                \"page_char_count\": len(text),\n",
        "                                \"page_word_count\": len(text.split(\" \")),\n",
        "                                \"page_sentence_count_raw\": len(text.split(\". \")),\n",
        "                                \"page_token_count\": len(text) / 4,  # 1 token =4 chars\n",
        "                                \"text\": formatted_text})\n",
        "  return pages_and_texts\n",
        "pages_and_texts=open_and_read_pdf(doc_path)"
      ]
    },
    {
      "cell_type": "code",
      "execution_count": 4,
      "metadata": {
        "colab": {
          "base_uri": "https://localhost:8080/",
          "height": 206
        },
        "id": "WdknRw54woXh",
        "outputId": "0c7ed174-4074-42d6-ef92-f9b25c96a2c4"
      },
      "outputs": [
        {
          "output_type": "execute_result",
          "data": {
            "text/plain": [
              "   page_number  page_char_count  page_word_count  page_sentence_count_raw  \\\n",
              "0            1               31                5                        1   \n",
              "1            2                0                1                        1   \n",
              "2            3              322               43                        1   \n",
              "3            4              214               31                        2   \n",
              "4            5              799              115                        2   \n",
              "\n",
              "   page_token_count                                               text  \n",
              "0              7.75                      human nutrition: 2020 edition  \n",
              "1              0.00                                                     \n",
              "2             80.50  human nutrition: 2020 edition university of ha...  \n",
              "3             53.50  human nutrition: 2020 edition by university of...  \n",
              "4            199.75  contents preface university of hawai‘i at māno...  "
            ],
            "text/html": [
              "\n",
              "  <div id=\"df-5f927d1a-7a7e-4ea2-957c-d1d9847b52ef\" class=\"colab-df-container\">\n",
              "    <div>\n",
              "<style scoped>\n",
              "    .dataframe tbody tr th:only-of-type {\n",
              "        vertical-align: middle;\n",
              "    }\n",
              "\n",
              "    .dataframe tbody tr th {\n",
              "        vertical-align: top;\n",
              "    }\n",
              "\n",
              "    .dataframe thead th {\n",
              "        text-align: right;\n",
              "    }\n",
              "</style>\n",
              "<table border=\"1\" class=\"dataframe\">\n",
              "  <thead>\n",
              "    <tr style=\"text-align: right;\">\n",
              "      <th></th>\n",
              "      <th>page_number</th>\n",
              "      <th>page_char_count</th>\n",
              "      <th>page_word_count</th>\n",
              "      <th>page_sentence_count_raw</th>\n",
              "      <th>page_token_count</th>\n",
              "      <th>text</th>\n",
              "    </tr>\n",
              "  </thead>\n",
              "  <tbody>\n",
              "    <tr>\n",
              "      <th>0</th>\n",
              "      <td>1</td>\n",
              "      <td>31</td>\n",
              "      <td>5</td>\n",
              "      <td>1</td>\n",
              "      <td>7.75</td>\n",
              "      <td>human nutrition: 2020 edition</td>\n",
              "    </tr>\n",
              "    <tr>\n",
              "      <th>1</th>\n",
              "      <td>2</td>\n",
              "      <td>0</td>\n",
              "      <td>1</td>\n",
              "      <td>1</td>\n",
              "      <td>0.00</td>\n",
              "      <td></td>\n",
              "    </tr>\n",
              "    <tr>\n",
              "      <th>2</th>\n",
              "      <td>3</td>\n",
              "      <td>322</td>\n",
              "      <td>43</td>\n",
              "      <td>1</td>\n",
              "      <td>80.50</td>\n",
              "      <td>human nutrition: 2020 edition university of ha...</td>\n",
              "    </tr>\n",
              "    <tr>\n",
              "      <th>3</th>\n",
              "      <td>4</td>\n",
              "      <td>214</td>\n",
              "      <td>31</td>\n",
              "      <td>2</td>\n",
              "      <td>53.50</td>\n",
              "      <td>human nutrition: 2020 edition by university of...</td>\n",
              "    </tr>\n",
              "    <tr>\n",
              "      <th>4</th>\n",
              "      <td>5</td>\n",
              "      <td>799</td>\n",
              "      <td>115</td>\n",
              "      <td>2</td>\n",
              "      <td>199.75</td>\n",
              "      <td>contents preface university of hawai‘i at māno...</td>\n",
              "    </tr>\n",
              "  </tbody>\n",
              "</table>\n",
              "</div>\n",
              "    <div class=\"colab-df-buttons\">\n",
              "\n",
              "  <div class=\"colab-df-container\">\n",
              "    <button class=\"colab-df-convert\" onclick=\"convertToInteractive('df-5f927d1a-7a7e-4ea2-957c-d1d9847b52ef')\"\n",
              "            title=\"Convert this dataframe to an interactive table.\"\n",
              "            style=\"display:none;\">\n",
              "\n",
              "  <svg xmlns=\"http://www.w3.org/2000/svg\" height=\"24px\" viewBox=\"0 -960 960 960\">\n",
              "    <path d=\"M120-120v-720h720v720H120Zm60-500h600v-160H180v160Zm220 220h160v-160H400v160Zm0 220h160v-160H400v160ZM180-400h160v-160H180v160Zm440 0h160v-160H620v160ZM180-180h160v-160H180v160Zm440 0h160v-160H620v160Z\"/>\n",
              "  </svg>\n",
              "    </button>\n",
              "\n",
              "  <style>\n",
              "    .colab-df-container {\n",
              "      display:flex;\n",
              "      gap: 12px;\n",
              "    }\n",
              "\n",
              "    .colab-df-convert {\n",
              "      background-color: #E8F0FE;\n",
              "      border: none;\n",
              "      border-radius: 50%;\n",
              "      cursor: pointer;\n",
              "      display: none;\n",
              "      fill: #1967D2;\n",
              "      height: 32px;\n",
              "      padding: 0 0 0 0;\n",
              "      width: 32px;\n",
              "    }\n",
              "\n",
              "    .colab-df-convert:hover {\n",
              "      background-color: #E2EBFA;\n",
              "      box-shadow: 0px 1px 2px rgba(60, 64, 67, 0.3), 0px 1px 3px 1px rgba(60, 64, 67, 0.15);\n",
              "      fill: #174EA6;\n",
              "    }\n",
              "\n",
              "    .colab-df-buttons div {\n",
              "      margin-bottom: 4px;\n",
              "    }\n",
              "\n",
              "    [theme=dark] .colab-df-convert {\n",
              "      background-color: #3B4455;\n",
              "      fill: #D2E3FC;\n",
              "    }\n",
              "\n",
              "    [theme=dark] .colab-df-convert:hover {\n",
              "      background-color: #434B5C;\n",
              "      box-shadow: 0px 1px 3px 1px rgba(0, 0, 0, 0.15);\n",
              "      filter: drop-shadow(0px 1px 2px rgba(0, 0, 0, 0.3));\n",
              "      fill: #FFFFFF;\n",
              "    }\n",
              "  </style>\n",
              "\n",
              "    <script>\n",
              "      const buttonEl =\n",
              "        document.querySelector('#df-5f927d1a-7a7e-4ea2-957c-d1d9847b52ef button.colab-df-convert');\n",
              "      buttonEl.style.display =\n",
              "        google.colab.kernel.accessAllowed ? 'block' : 'none';\n",
              "\n",
              "      async function convertToInteractive(key) {\n",
              "        const element = document.querySelector('#df-5f927d1a-7a7e-4ea2-957c-d1d9847b52ef');\n",
              "        const dataTable =\n",
              "          await google.colab.kernel.invokeFunction('convertToInteractive',\n",
              "                                                    [key], {});\n",
              "        if (!dataTable) return;\n",
              "\n",
              "        const docLinkHtml = 'Like what you see? Visit the ' +\n",
              "          '<a target=\"_blank\" href=https://colab.research.google.com/notebooks/data_table.ipynb>data table notebook</a>'\n",
              "          + ' to learn more about interactive tables.';\n",
              "        element.innerHTML = '';\n",
              "        dataTable['output_type'] = 'display_data';\n",
              "        await google.colab.output.renderOutput(dataTable, element);\n",
              "        const docLink = document.createElement('div');\n",
              "        docLink.innerHTML = docLinkHtml;\n",
              "        element.appendChild(docLink);\n",
              "      }\n",
              "    </script>\n",
              "  </div>\n",
              "\n",
              "\n",
              "<div id=\"df-cbc4a5a3-bc01-4e1a-907f-5ee7a2a4ba4c\">\n",
              "  <button class=\"colab-df-quickchart\" onclick=\"quickchart('df-cbc4a5a3-bc01-4e1a-907f-5ee7a2a4ba4c')\"\n",
              "            title=\"Suggest charts\"\n",
              "            style=\"display:none;\">\n",
              "\n",
              "<svg xmlns=\"http://www.w3.org/2000/svg\" height=\"24px\"viewBox=\"0 0 24 24\"\n",
              "     width=\"24px\">\n",
              "    <g>\n",
              "        <path d=\"M19 3H5c-1.1 0-2 .9-2 2v14c0 1.1.9 2 2 2h14c1.1 0 2-.9 2-2V5c0-1.1-.9-2-2-2zM9 17H7v-7h2v7zm4 0h-2V7h2v10zm4 0h-2v-4h2v4z\"/>\n",
              "    </g>\n",
              "</svg>\n",
              "  </button>\n",
              "\n",
              "<style>\n",
              "  .colab-df-quickchart {\n",
              "      --bg-color: #E8F0FE;\n",
              "      --fill-color: #1967D2;\n",
              "      --hover-bg-color: #E2EBFA;\n",
              "      --hover-fill-color: #174EA6;\n",
              "      --disabled-fill-color: #AAA;\n",
              "      --disabled-bg-color: #DDD;\n",
              "  }\n",
              "\n",
              "  [theme=dark] .colab-df-quickchart {\n",
              "      --bg-color: #3B4455;\n",
              "      --fill-color: #D2E3FC;\n",
              "      --hover-bg-color: #434B5C;\n",
              "      --hover-fill-color: #FFFFFF;\n",
              "      --disabled-bg-color: #3B4455;\n",
              "      --disabled-fill-color: #666;\n",
              "  }\n",
              "\n",
              "  .colab-df-quickchart {\n",
              "    background-color: var(--bg-color);\n",
              "    border: none;\n",
              "    border-radius: 50%;\n",
              "    cursor: pointer;\n",
              "    display: none;\n",
              "    fill: var(--fill-color);\n",
              "    height: 32px;\n",
              "    padding: 0;\n",
              "    width: 32px;\n",
              "  }\n",
              "\n",
              "  .colab-df-quickchart:hover {\n",
              "    background-color: var(--hover-bg-color);\n",
              "    box-shadow: 0 1px 2px rgba(60, 64, 67, 0.3), 0 1px 3px 1px rgba(60, 64, 67, 0.15);\n",
              "    fill: var(--button-hover-fill-color);\n",
              "  }\n",
              "\n",
              "  .colab-df-quickchart-complete:disabled,\n",
              "  .colab-df-quickchart-complete:disabled:hover {\n",
              "    background-color: var(--disabled-bg-color);\n",
              "    fill: var(--disabled-fill-color);\n",
              "    box-shadow: none;\n",
              "  }\n",
              "\n",
              "  .colab-df-spinner {\n",
              "    border: 2px solid var(--fill-color);\n",
              "    border-color: transparent;\n",
              "    border-bottom-color: var(--fill-color);\n",
              "    animation:\n",
              "      spin 1s steps(1) infinite;\n",
              "  }\n",
              "\n",
              "  @keyframes spin {\n",
              "    0% {\n",
              "      border-color: transparent;\n",
              "      border-bottom-color: var(--fill-color);\n",
              "      border-left-color: var(--fill-color);\n",
              "    }\n",
              "    20% {\n",
              "      border-color: transparent;\n",
              "      border-left-color: var(--fill-color);\n",
              "      border-top-color: var(--fill-color);\n",
              "    }\n",
              "    30% {\n",
              "      border-color: transparent;\n",
              "      border-left-color: var(--fill-color);\n",
              "      border-top-color: var(--fill-color);\n",
              "      border-right-color: var(--fill-color);\n",
              "    }\n",
              "    40% {\n",
              "      border-color: transparent;\n",
              "      border-right-color: var(--fill-color);\n",
              "      border-top-color: var(--fill-color);\n",
              "    }\n",
              "    60% {\n",
              "      border-color: transparent;\n",
              "      border-right-color: var(--fill-color);\n",
              "    }\n",
              "    80% {\n",
              "      border-color: transparent;\n",
              "      border-right-color: var(--fill-color);\n",
              "      border-bottom-color: var(--fill-color);\n",
              "    }\n",
              "    90% {\n",
              "      border-color: transparent;\n",
              "      border-bottom-color: var(--fill-color);\n",
              "    }\n",
              "  }\n",
              "</style>\n",
              "\n",
              "  <script>\n",
              "    async function quickchart(key) {\n",
              "      const quickchartButtonEl =\n",
              "        document.querySelector('#' + key + ' button');\n",
              "      quickchartButtonEl.disabled = true;  // To prevent multiple clicks.\n",
              "      quickchartButtonEl.classList.add('colab-df-spinner');\n",
              "      try {\n",
              "        const charts = await google.colab.kernel.invokeFunction(\n",
              "            'suggestCharts', [key], {});\n",
              "      } catch (error) {\n",
              "        console.error('Error during call to suggestCharts:', error);\n",
              "      }\n",
              "      quickchartButtonEl.classList.remove('colab-df-spinner');\n",
              "      quickchartButtonEl.classList.add('colab-df-quickchart-complete');\n",
              "    }\n",
              "    (() => {\n",
              "      let quickchartButtonEl =\n",
              "        document.querySelector('#df-cbc4a5a3-bc01-4e1a-907f-5ee7a2a4ba4c button');\n",
              "      quickchartButtonEl.style.display =\n",
              "        google.colab.kernel.accessAllowed ? 'block' : 'none';\n",
              "    })();\n",
              "  </script>\n",
              "</div>\n",
              "\n",
              "    </div>\n",
              "  </div>\n"
            ],
            "application/vnd.google.colaboratory.intrinsic+json": {
              "type": "dataframe",
              "variable_name": "df",
              "summary": "{\n  \"name\": \"df\",\n  \"rows\": 1208,\n  \"fields\": [\n    {\n      \"column\": \"page_number\",\n      \"properties\": {\n        \"dtype\": \"number\",\n        \"std\": 348,\n        \"min\": 1,\n        \"max\": 1208,\n        \"num_unique_values\": 1208,\n        \"samples\": [\n          102,\n          755,\n          309\n        ],\n        \"semantic_type\": \"\",\n        \"description\": \"\"\n      }\n    },\n    {\n      \"column\": \"page_char_count\",\n      \"properties\": {\n        \"dtype\": \"number\",\n        \"std\": 560,\n        \"min\": 0,\n        \"max\": 2309,\n        \"num_unique_values\": 888,\n        \"samples\": [\n          2012,\n          863,\n          909\n        ],\n        \"semantic_type\": \"\",\n        \"description\": \"\"\n      }\n    },\n    {\n      \"column\": \"page_word_count\",\n      \"properties\": {\n        \"dtype\": \"number\",\n        \"std\": 86,\n        \"min\": 1,\n        \"max\": 394,\n        \"num_unique_values\": 314,\n        \"samples\": [\n          346,\n          174,\n          324\n        ],\n        \"semantic_type\": \"\",\n        \"description\": \"\"\n      }\n    },\n    {\n      \"column\": \"page_sentence_count_raw\",\n      \"properties\": {\n        \"dtype\": \"number\",\n        \"std\": 6,\n        \"min\": 1,\n        \"max\": 32,\n        \"num_unique_values\": 31,\n        \"samples\": [\n          28,\n          24,\n          22\n        ],\n        \"semantic_type\": \"\",\n        \"description\": \"\"\n      }\n    },\n    {\n      \"column\": \"page_token_count\",\n      \"properties\": {\n        \"dtype\": \"number\",\n        \"std\": 140.10178714814379,\n        \"min\": 0.0,\n        \"max\": 577.25,\n        \"num_unique_values\": 888,\n        \"samples\": [\n          503.0,\n          215.75,\n          227.25\n        ],\n        \"semantic_type\": \"\",\n        \"description\": \"\"\n      }\n    },\n    {\n      \"column\": \"text\",\n      \"properties\": {\n        \"dtype\": \"string\",\n        \"num_unique_values\": 1180,\n        \"samples\": [\n          \"electrolytes important for fluid balance university of hawai\\u2018i at m\\u0101noa food science and human nutrition program and human nutrition program cells are about 75 percent water and blood plasma is about 95 percent water. why then, does the water not flow from blood plasma to cells? the force of water also known as hydrostatic pressure maintains the volumes of water between fluid compartments against the force of all dissolved substances. the concentration is the amount of particles in a set volume of water. (recall that individual solutes can differ in concentration between the intracellular and extracellular fluids, but the total concentration of all dissolved substances is equal.) the force driving the water movement through the selectively permeable membrane is the higher solute concentration on the one side. solutes at different concentrations on either side of a selectively permeable membrane exert a force, called osmotic pressure. the higher concentration of solutes on one side compared to the other of the u-tube exerts osmotic pressure, pulling the water to a higher volume on the side of the u-tube containing more dissolved particles. when the osmotic pressure is equal to the pressure of the water on the selectively permeable membrane, net water movement stops (though it still diffuses back and forth at an equal rate). one equation exemplifying equal concentrations but different volumes is the following 5 grams of glucose in 1 liter = 10 grams of glucose in 2 liters (5g/l = 5g/l) the differences in concentrations of particular substances provide concentration gradients that cells can use to perform work. a concentration gradient is a form of potential energy, like water 172 | electrolytes important for fluid balance\",\n          \"units of measure university of hawai\\u2018i at m\\u0101noa food science and human nutrition program and human nutrition program in nutrition, there are two systems of commonly used measurements: metric and us customary. we need both because the us won\\u2019t adopt the metric system completely. the metric and us customary system these are commonly used prefixes for the metric system: micro- (\\u03bc) 1/1,000,000th (one millionth) milli- (m) 1/1000th (one thousandth) centi- (c) 1/100th (one hundredth) deci- (d) 1/10th (one tenth) kilo- (k) 1000x (one thousand times) mass metric system us customary system conversions microgram (\\u03bcg) ounce (oz) 1 oz = 28.35 g milligram (mg) pound (lb) 1 lb = 16 oz gram (g) 1 lb = 454 g kilogram (kg) 1 kg = 2.2 lbs 18 | units of measure\",\n          \"activity level. for example, dental problems can lead to difficulties with chewing and swallowing, which in turn can make it hard to maintain a healthy diet. the use of dentures or the preparation of pureed or chopped foods can help solve this problem. there also is a decreased thirst response in the elderly, and the kidneys have a decreased ability to concentrate urine, both of which can lead to dehydration. sensory issues at about age sixty, taste buds begin to decrease in size and number. as a result, the taste threshold is higher in older adults, meaning that more of the same flavor must be present to detect the taste. many elderly people lose the ability to distinguish between salty, sour, sweet, and bitter flavors. this can make food seem less appealing and decrease the appetite. an intake of foods high in sugar and sodium can increase due to an inability to discern those tastes. the sense of smell also decreases, which impacts attitudes toward food. sensory issues may also affect the digestion because the taste and smell of food stimulates the secretion of digestive enzymes in the mouth, stomach, and pancreas. dysphagia some older adults have difficulty getting adequate nutrition because of the disorder dysphagia, which impairs the ability to swallow. any damage to the parts of the brain that control swallowing can result in dysphagia, therefore stroke is a common cause. dysphagia is also associated with advanced dementia because of overall brain function impairment. to assist older adults suffering from dysphagia, it can be helpful to alter food consistency. older adulthood: the golden years | 923\"\n        ],\n        \"semantic_type\": \"\",\n        \"description\": \"\"\n      }\n    }\n  ]\n}"
            }
          },
          "metadata": {},
          "execution_count": 4
        }
      ],
      "source": [
        "import pandas as pd\n",
        "\n",
        "df = pd.DataFrame(pages_and_texts)\n",
        "df.head()"
      ]
    },
    {
      "cell_type": "code",
      "execution_count": null,
      "metadata": {
        "colab": {
          "base_uri": "https://localhost:8080/"
        },
        "id": "ncWV94180LyX",
        "outputId": "ec1cb106-3e36-4e28-9105-f70258ddd226"
      },
      "outputs": [
        {
          "name": "stdout",
          "output_type": "stream",
          "text": [
            "The avg nb of tokens in a page is:  287.25289735099335\n"
          ]
        }
      ],
      "source": [
        "avg_token_count=df['page_token_count'].mean()\n",
        "print('The avg nb of tokens in a page is: ',avg_token_count)"
      ]
    },
    {
      "cell_type": "code",
      "execution_count": null,
      "metadata": {
        "colab": {
          "base_uri": "https://localhost:8080/"
        },
        "id": "I2vsh8ml9tDa",
        "outputId": "bc0bd040-f41f-4e6d-90ff-9fe2c0db2590"
      },
      "outputs": [
        {
          "name": "stdout",
          "output_type": "stream",
          "text": [
            "The max nb of tokens in a page is:  577.25\n"
          ]
        }
      ],
      "source": [
        "max_token_count=df['page_token_count'].max()\n",
        "print('The max nb of tokens in a page is: ',max_token_count)"
      ]
    },
    {
      "cell_type": "code",
      "execution_count": 5,
      "metadata": {
        "colab": {
          "base_uri": "https://localhost:8080/"
        },
        "id": "XqDXTQwH2GIg",
        "outputId": "87966e03-efd7-4af8-f9f7-83c745680aaa"
      },
      "outputs": [
        {
          "output_type": "stream",
          "name": "stderr",
          "text": [
            "100%|██████████| 1208/1208 [00:01<00:00, 922.99it/s]\n"
          ]
        }
      ],
      "source": [
        "from spacy.lang.en import English\n",
        "\n",
        "def break_into_sentences_scipy(pages_and_texts):\n",
        "  nlp = English()\n",
        "  nlp.add_pipe(\"sentencizer\") #component that helps detect sentence boundaries\n",
        "  for item in tqdm(pages_and_texts):\n",
        "      item[\"sentences\"] = list(nlp(item[\"text\"]).sents)\n",
        "\n",
        "      # Make sure all sentences are strings\n",
        "      item[\"sentences\"] = [str(sentence) for sentence in item[\"sentences\"]]\n",
        "\n",
        "      # Count the sentences\n",
        "      item[\"page_sentence_count_spacy\"] = len(item[\"sentences\"])\n",
        "break_into_sentences_scipy(pages_and_texts)"
      ]
    },
    {
      "cell_type": "code",
      "execution_count": 6,
      "metadata": {
        "colab": {
          "base_uri": "https://localhost:8080/",
          "height": 556
        },
        "id": "SVS3q-ZV2c6R",
        "outputId": "0349bcb2-d41d-4795-9701-9f088ebadec8"
      },
      "outputs": [
        {
          "output_type": "execute_result",
          "data": {
            "text/plain": [
              "   page_number  page_char_count  page_word_count  page_sentence_count_raw  \\\n",
              "0            1               31                5                        1   \n",
              "1            2                0                1                        1   \n",
              "2            3              322               43                        1   \n",
              "3            4              214               31                        2   \n",
              "4            5              799              115                        2   \n",
              "\n",
              "   page_token_count                                               text  \\\n",
              "0              7.75                      human nutrition: 2020 edition   \n",
              "1              0.00                                                      \n",
              "2             80.50  human nutrition: 2020 edition university of ha...   \n",
              "3             53.50  human nutrition: 2020 edition by university of...   \n",
              "4            199.75  contents preface university of hawai‘i at māno...   \n",
              "\n",
              "                                           sentences  \\\n",
              "0                    [human nutrition: 2020 edition]   \n",
              "1                                                 []   \n",
              "2  [human nutrition: 2020 edition university of h...   \n",
              "3  [human nutrition: 2020 edition by university o...   \n",
              "4  [contents preface university of hawai‘i at mān...   \n",
              "\n",
              "   page_sentence_count_spacy  \n",
              "0                          1  \n",
              "1                          0  \n",
              "2                          1  \n",
              "3                          1  \n",
              "4                          2  "
            ],
            "text/html": [
              "\n",
              "  <div id=\"df-d6f322c6-3919-4307-93a0-a6cc45bbba47\" class=\"colab-df-container\">\n",
              "    <div>\n",
              "<style scoped>\n",
              "    .dataframe tbody tr th:only-of-type {\n",
              "        vertical-align: middle;\n",
              "    }\n",
              "\n",
              "    .dataframe tbody tr th {\n",
              "        vertical-align: top;\n",
              "    }\n",
              "\n",
              "    .dataframe thead th {\n",
              "        text-align: right;\n",
              "    }\n",
              "</style>\n",
              "<table border=\"1\" class=\"dataframe\">\n",
              "  <thead>\n",
              "    <tr style=\"text-align: right;\">\n",
              "      <th></th>\n",
              "      <th>page_number</th>\n",
              "      <th>page_char_count</th>\n",
              "      <th>page_word_count</th>\n",
              "      <th>page_sentence_count_raw</th>\n",
              "      <th>page_token_count</th>\n",
              "      <th>text</th>\n",
              "      <th>sentences</th>\n",
              "      <th>page_sentence_count_spacy</th>\n",
              "    </tr>\n",
              "  </thead>\n",
              "  <tbody>\n",
              "    <tr>\n",
              "      <th>0</th>\n",
              "      <td>1</td>\n",
              "      <td>31</td>\n",
              "      <td>5</td>\n",
              "      <td>1</td>\n",
              "      <td>7.75</td>\n",
              "      <td>human nutrition: 2020 edition</td>\n",
              "      <td>[human nutrition: 2020 edition]</td>\n",
              "      <td>1</td>\n",
              "    </tr>\n",
              "    <tr>\n",
              "      <th>1</th>\n",
              "      <td>2</td>\n",
              "      <td>0</td>\n",
              "      <td>1</td>\n",
              "      <td>1</td>\n",
              "      <td>0.00</td>\n",
              "      <td></td>\n",
              "      <td>[]</td>\n",
              "      <td>0</td>\n",
              "    </tr>\n",
              "    <tr>\n",
              "      <th>2</th>\n",
              "      <td>3</td>\n",
              "      <td>322</td>\n",
              "      <td>43</td>\n",
              "      <td>1</td>\n",
              "      <td>80.50</td>\n",
              "      <td>human nutrition: 2020 edition university of ha...</td>\n",
              "      <td>[human nutrition: 2020 edition university of h...</td>\n",
              "      <td>1</td>\n",
              "    </tr>\n",
              "    <tr>\n",
              "      <th>3</th>\n",
              "      <td>4</td>\n",
              "      <td>214</td>\n",
              "      <td>31</td>\n",
              "      <td>2</td>\n",
              "      <td>53.50</td>\n",
              "      <td>human nutrition: 2020 edition by university of...</td>\n",
              "      <td>[human nutrition: 2020 edition by university o...</td>\n",
              "      <td>1</td>\n",
              "    </tr>\n",
              "    <tr>\n",
              "      <th>4</th>\n",
              "      <td>5</td>\n",
              "      <td>799</td>\n",
              "      <td>115</td>\n",
              "      <td>2</td>\n",
              "      <td>199.75</td>\n",
              "      <td>contents preface university of hawai‘i at māno...</td>\n",
              "      <td>[contents preface university of hawai‘i at mān...</td>\n",
              "      <td>2</td>\n",
              "    </tr>\n",
              "  </tbody>\n",
              "</table>\n",
              "</div>\n",
              "    <div class=\"colab-df-buttons\">\n",
              "\n",
              "  <div class=\"colab-df-container\">\n",
              "    <button class=\"colab-df-convert\" onclick=\"convertToInteractive('df-d6f322c6-3919-4307-93a0-a6cc45bbba47')\"\n",
              "            title=\"Convert this dataframe to an interactive table.\"\n",
              "            style=\"display:none;\">\n",
              "\n",
              "  <svg xmlns=\"http://www.w3.org/2000/svg\" height=\"24px\" viewBox=\"0 -960 960 960\">\n",
              "    <path d=\"M120-120v-720h720v720H120Zm60-500h600v-160H180v160Zm220 220h160v-160H400v160Zm0 220h160v-160H400v160ZM180-400h160v-160H180v160Zm440 0h160v-160H620v160ZM180-180h160v-160H180v160Zm440 0h160v-160H620v160Z\"/>\n",
              "  </svg>\n",
              "    </button>\n",
              "\n",
              "  <style>\n",
              "    .colab-df-container {\n",
              "      display:flex;\n",
              "      gap: 12px;\n",
              "    }\n",
              "\n",
              "    .colab-df-convert {\n",
              "      background-color: #E8F0FE;\n",
              "      border: none;\n",
              "      border-radius: 50%;\n",
              "      cursor: pointer;\n",
              "      display: none;\n",
              "      fill: #1967D2;\n",
              "      height: 32px;\n",
              "      padding: 0 0 0 0;\n",
              "      width: 32px;\n",
              "    }\n",
              "\n",
              "    .colab-df-convert:hover {\n",
              "      background-color: #E2EBFA;\n",
              "      box-shadow: 0px 1px 2px rgba(60, 64, 67, 0.3), 0px 1px 3px 1px rgba(60, 64, 67, 0.15);\n",
              "      fill: #174EA6;\n",
              "    }\n",
              "\n",
              "    .colab-df-buttons div {\n",
              "      margin-bottom: 4px;\n",
              "    }\n",
              "\n",
              "    [theme=dark] .colab-df-convert {\n",
              "      background-color: #3B4455;\n",
              "      fill: #D2E3FC;\n",
              "    }\n",
              "\n",
              "    [theme=dark] .colab-df-convert:hover {\n",
              "      background-color: #434B5C;\n",
              "      box-shadow: 0px 1px 3px 1px rgba(0, 0, 0, 0.15);\n",
              "      filter: drop-shadow(0px 1px 2px rgba(0, 0, 0, 0.3));\n",
              "      fill: #FFFFFF;\n",
              "    }\n",
              "  </style>\n",
              "\n",
              "    <script>\n",
              "      const buttonEl =\n",
              "        document.querySelector('#df-d6f322c6-3919-4307-93a0-a6cc45bbba47 button.colab-df-convert');\n",
              "      buttonEl.style.display =\n",
              "        google.colab.kernel.accessAllowed ? 'block' : 'none';\n",
              "\n",
              "      async function convertToInteractive(key) {\n",
              "        const element = document.querySelector('#df-d6f322c6-3919-4307-93a0-a6cc45bbba47');\n",
              "        const dataTable =\n",
              "          await google.colab.kernel.invokeFunction('convertToInteractive',\n",
              "                                                    [key], {});\n",
              "        if (!dataTable) return;\n",
              "\n",
              "        const docLinkHtml = 'Like what you see? Visit the ' +\n",
              "          '<a target=\"_blank\" href=https://colab.research.google.com/notebooks/data_table.ipynb>data table notebook</a>'\n",
              "          + ' to learn more about interactive tables.';\n",
              "        element.innerHTML = '';\n",
              "        dataTable['output_type'] = 'display_data';\n",
              "        await google.colab.output.renderOutput(dataTable, element);\n",
              "        const docLink = document.createElement('div');\n",
              "        docLink.innerHTML = docLinkHtml;\n",
              "        element.appendChild(docLink);\n",
              "      }\n",
              "    </script>\n",
              "  </div>\n",
              "\n",
              "\n",
              "<div id=\"df-fb49d9f1-8ccf-4a1a-8e61-54de2bb61f28\">\n",
              "  <button class=\"colab-df-quickchart\" onclick=\"quickchart('df-fb49d9f1-8ccf-4a1a-8e61-54de2bb61f28')\"\n",
              "            title=\"Suggest charts\"\n",
              "            style=\"display:none;\">\n",
              "\n",
              "<svg xmlns=\"http://www.w3.org/2000/svg\" height=\"24px\"viewBox=\"0 0 24 24\"\n",
              "     width=\"24px\">\n",
              "    <g>\n",
              "        <path d=\"M19 3H5c-1.1 0-2 .9-2 2v14c0 1.1.9 2 2 2h14c1.1 0 2-.9 2-2V5c0-1.1-.9-2-2-2zM9 17H7v-7h2v7zm4 0h-2V7h2v10zm4 0h-2v-4h2v4z\"/>\n",
              "    </g>\n",
              "</svg>\n",
              "  </button>\n",
              "\n",
              "<style>\n",
              "  .colab-df-quickchart {\n",
              "      --bg-color: #E8F0FE;\n",
              "      --fill-color: #1967D2;\n",
              "      --hover-bg-color: #E2EBFA;\n",
              "      --hover-fill-color: #174EA6;\n",
              "      --disabled-fill-color: #AAA;\n",
              "      --disabled-bg-color: #DDD;\n",
              "  }\n",
              "\n",
              "  [theme=dark] .colab-df-quickchart {\n",
              "      --bg-color: #3B4455;\n",
              "      --fill-color: #D2E3FC;\n",
              "      --hover-bg-color: #434B5C;\n",
              "      --hover-fill-color: #FFFFFF;\n",
              "      --disabled-bg-color: #3B4455;\n",
              "      --disabled-fill-color: #666;\n",
              "  }\n",
              "\n",
              "  .colab-df-quickchart {\n",
              "    background-color: var(--bg-color);\n",
              "    border: none;\n",
              "    border-radius: 50%;\n",
              "    cursor: pointer;\n",
              "    display: none;\n",
              "    fill: var(--fill-color);\n",
              "    height: 32px;\n",
              "    padding: 0;\n",
              "    width: 32px;\n",
              "  }\n",
              "\n",
              "  .colab-df-quickchart:hover {\n",
              "    background-color: var(--hover-bg-color);\n",
              "    box-shadow: 0 1px 2px rgba(60, 64, 67, 0.3), 0 1px 3px 1px rgba(60, 64, 67, 0.15);\n",
              "    fill: var(--button-hover-fill-color);\n",
              "  }\n",
              "\n",
              "  .colab-df-quickchart-complete:disabled,\n",
              "  .colab-df-quickchart-complete:disabled:hover {\n",
              "    background-color: var(--disabled-bg-color);\n",
              "    fill: var(--disabled-fill-color);\n",
              "    box-shadow: none;\n",
              "  }\n",
              "\n",
              "  .colab-df-spinner {\n",
              "    border: 2px solid var(--fill-color);\n",
              "    border-color: transparent;\n",
              "    border-bottom-color: var(--fill-color);\n",
              "    animation:\n",
              "      spin 1s steps(1) infinite;\n",
              "  }\n",
              "\n",
              "  @keyframes spin {\n",
              "    0% {\n",
              "      border-color: transparent;\n",
              "      border-bottom-color: var(--fill-color);\n",
              "      border-left-color: var(--fill-color);\n",
              "    }\n",
              "    20% {\n",
              "      border-color: transparent;\n",
              "      border-left-color: var(--fill-color);\n",
              "      border-top-color: var(--fill-color);\n",
              "    }\n",
              "    30% {\n",
              "      border-color: transparent;\n",
              "      border-left-color: var(--fill-color);\n",
              "      border-top-color: var(--fill-color);\n",
              "      border-right-color: var(--fill-color);\n",
              "    }\n",
              "    40% {\n",
              "      border-color: transparent;\n",
              "      border-right-color: var(--fill-color);\n",
              "      border-top-color: var(--fill-color);\n",
              "    }\n",
              "    60% {\n",
              "      border-color: transparent;\n",
              "      border-right-color: var(--fill-color);\n",
              "    }\n",
              "    80% {\n",
              "      border-color: transparent;\n",
              "      border-right-color: var(--fill-color);\n",
              "      border-bottom-color: var(--fill-color);\n",
              "    }\n",
              "    90% {\n",
              "      border-color: transparent;\n",
              "      border-bottom-color: var(--fill-color);\n",
              "    }\n",
              "  }\n",
              "</style>\n",
              "\n",
              "  <script>\n",
              "    async function quickchart(key) {\n",
              "      const quickchartButtonEl =\n",
              "        document.querySelector('#' + key + ' button');\n",
              "      quickchartButtonEl.disabled = true;  // To prevent multiple clicks.\n",
              "      quickchartButtonEl.classList.add('colab-df-spinner');\n",
              "      try {\n",
              "        const charts = await google.colab.kernel.invokeFunction(\n",
              "            'suggestCharts', [key], {});\n",
              "      } catch (error) {\n",
              "        console.error('Error during call to suggestCharts:', error);\n",
              "      }\n",
              "      quickchartButtonEl.classList.remove('colab-df-spinner');\n",
              "      quickchartButtonEl.classList.add('colab-df-quickchart-complete');\n",
              "    }\n",
              "    (() => {\n",
              "      let quickchartButtonEl =\n",
              "        document.querySelector('#df-fb49d9f1-8ccf-4a1a-8e61-54de2bb61f28 button');\n",
              "      quickchartButtonEl.style.display =\n",
              "        google.colab.kernel.accessAllowed ? 'block' : 'none';\n",
              "    })();\n",
              "  </script>\n",
              "</div>\n",
              "\n",
              "    </div>\n",
              "  </div>\n"
            ],
            "application/vnd.google.colaboratory.intrinsic+json": {
              "type": "dataframe",
              "variable_name": "df",
              "summary": "{\n  \"name\": \"df\",\n  \"rows\": 1208,\n  \"fields\": [\n    {\n      \"column\": \"page_number\",\n      \"properties\": {\n        \"dtype\": \"number\",\n        \"std\": 348,\n        \"min\": 1,\n        \"max\": 1208,\n        \"num_unique_values\": 1208,\n        \"samples\": [\n          102,\n          755,\n          309\n        ],\n        \"semantic_type\": \"\",\n        \"description\": \"\"\n      }\n    },\n    {\n      \"column\": \"page_char_count\",\n      \"properties\": {\n        \"dtype\": \"number\",\n        \"std\": 560,\n        \"min\": 0,\n        \"max\": 2309,\n        \"num_unique_values\": 888,\n        \"samples\": [\n          2012,\n          863,\n          909\n        ],\n        \"semantic_type\": \"\",\n        \"description\": \"\"\n      }\n    },\n    {\n      \"column\": \"page_word_count\",\n      \"properties\": {\n        \"dtype\": \"number\",\n        \"std\": 86,\n        \"min\": 1,\n        \"max\": 394,\n        \"num_unique_values\": 314,\n        \"samples\": [\n          346,\n          174,\n          324\n        ],\n        \"semantic_type\": \"\",\n        \"description\": \"\"\n      }\n    },\n    {\n      \"column\": \"page_sentence_count_raw\",\n      \"properties\": {\n        \"dtype\": \"number\",\n        \"std\": 6,\n        \"min\": 1,\n        \"max\": 32,\n        \"num_unique_values\": 31,\n        \"samples\": [\n          28,\n          24,\n          22\n        ],\n        \"semantic_type\": \"\",\n        \"description\": \"\"\n      }\n    },\n    {\n      \"column\": \"page_token_count\",\n      \"properties\": {\n        \"dtype\": \"number\",\n        \"std\": 140.10178714814379,\n        \"min\": 0.0,\n        \"max\": 577.25,\n        \"num_unique_values\": 888,\n        \"samples\": [\n          503.0,\n          215.75,\n          227.25\n        ],\n        \"semantic_type\": \"\",\n        \"description\": \"\"\n      }\n    },\n    {\n      \"column\": \"text\",\n      \"properties\": {\n        \"dtype\": \"string\",\n        \"num_unique_values\": 1180,\n        \"samples\": [\n          \"electrolytes important for fluid balance university of hawai\\u2018i at m\\u0101noa food science and human nutrition program and human nutrition program cells are about 75 percent water and blood plasma is about 95 percent water. why then, does the water not flow from blood plasma to cells? the force of water also known as hydrostatic pressure maintains the volumes of water between fluid compartments against the force of all dissolved substances. the concentration is the amount of particles in a set volume of water. (recall that individual solutes can differ in concentration between the intracellular and extracellular fluids, but the total concentration of all dissolved substances is equal.) the force driving the water movement through the selectively permeable membrane is the higher solute concentration on the one side. solutes at different concentrations on either side of a selectively permeable membrane exert a force, called osmotic pressure. the higher concentration of solutes on one side compared to the other of the u-tube exerts osmotic pressure, pulling the water to a higher volume on the side of the u-tube containing more dissolved particles. when the osmotic pressure is equal to the pressure of the water on the selectively permeable membrane, net water movement stops (though it still diffuses back and forth at an equal rate). one equation exemplifying equal concentrations but different volumes is the following 5 grams of glucose in 1 liter = 10 grams of glucose in 2 liters (5g/l = 5g/l) the differences in concentrations of particular substances provide concentration gradients that cells can use to perform work. a concentration gradient is a form of potential energy, like water 172 | electrolytes important for fluid balance\",\n          \"units of measure university of hawai\\u2018i at m\\u0101noa food science and human nutrition program and human nutrition program in nutrition, there are two systems of commonly used measurements: metric and us customary. we need both because the us won\\u2019t adopt the metric system completely. the metric and us customary system these are commonly used prefixes for the metric system: micro- (\\u03bc) 1/1,000,000th (one millionth) milli- (m) 1/1000th (one thousandth) centi- (c) 1/100th (one hundredth) deci- (d) 1/10th (one tenth) kilo- (k) 1000x (one thousand times) mass metric system us customary system conversions microgram (\\u03bcg) ounce (oz) 1 oz = 28.35 g milligram (mg) pound (lb) 1 lb = 16 oz gram (g) 1 lb = 454 g kilogram (kg) 1 kg = 2.2 lbs 18 | units of measure\",\n          \"activity level. for example, dental problems can lead to difficulties with chewing and swallowing, which in turn can make it hard to maintain a healthy diet. the use of dentures or the preparation of pureed or chopped foods can help solve this problem. there also is a decreased thirst response in the elderly, and the kidneys have a decreased ability to concentrate urine, both of which can lead to dehydration. sensory issues at about age sixty, taste buds begin to decrease in size and number. as a result, the taste threshold is higher in older adults, meaning that more of the same flavor must be present to detect the taste. many elderly people lose the ability to distinguish between salty, sour, sweet, and bitter flavors. this can make food seem less appealing and decrease the appetite. an intake of foods high in sugar and sodium can increase due to an inability to discern those tastes. the sense of smell also decreases, which impacts attitudes toward food. sensory issues may also affect the digestion because the taste and smell of food stimulates the secretion of digestive enzymes in the mouth, stomach, and pancreas. dysphagia some older adults have difficulty getting adequate nutrition because of the disorder dysphagia, which impairs the ability to swallow. any damage to the parts of the brain that control swallowing can result in dysphagia, therefore stroke is a common cause. dysphagia is also associated with advanced dementia because of overall brain function impairment. to assist older adults suffering from dysphagia, it can be helpful to alter food consistency. older adulthood: the golden years | 923\"\n        ],\n        \"semantic_type\": \"\",\n        \"description\": \"\"\n      }\n    },\n    {\n      \"column\": \"sentences\",\n      \"properties\": {\n        \"dtype\": \"object\",\n        \"semantic_type\": \"\",\n        \"description\": \"\"\n      }\n    },\n    {\n      \"column\": \"page_sentence_count_spacy\",\n      \"properties\": {\n        \"dtype\": \"number\",\n        \"std\": 6,\n        \"min\": 0,\n        \"max\": 29,\n        \"num_unique_values\": 30,\n        \"samples\": [\n          26,\n          21,\n          23\n        ],\n        \"semantic_type\": \"\",\n        \"description\": \"\"\n      }\n    }\n  ]\n}"
            }
          },
          "metadata": {},
          "execution_count": 6
        }
      ],
      "source": [
        "df = pd.DataFrame(pages_and_texts)\n",
        "df.head()"
      ]
    },
    {
      "cell_type": "code",
      "execution_count": null,
      "metadata": {
        "colab": {
          "base_uri": "https://localhost:8080/"
        },
        "id": "6tUgEsVm4hbQ",
        "outputId": "d4736987-f8f8-46df-f1df-cc4139549caf"
      },
      "outputs": [
        {
          "name": "stdout",
          "output_type": "stream",
          "text": [
            "The avg_page_sentence_count_spacy is:  10.350165562913908\n"
          ]
        }
      ],
      "source": [
        "avg_page_sentence_count_spacy=df['page_sentence_count_spacy'].mean()\n",
        "print('The avg_page_sentence_count_spacy is: ',avg_page_sentence_count_spacy)"
      ]
    },
    {
      "cell_type": "markdown",
      "metadata": {
        "id": "jZRHv7EL5EvR"
      },
      "source": [
        "On average each of our pages has 10 sentences.\n",
        "And an average total of 287 tokens per page.\n",
        "So our groups of 10 sentences will also be ~287 tokens long."
      ]
    },
    {
      "cell_type": "code",
      "execution_count": 7,
      "metadata": {
        "colab": {
          "base_uri": "https://localhost:8080/"
        },
        "id": "li_k7HnW5rkY",
        "outputId": "3f433e08-2e0f-49da-dd92-bef5a903c069"
      },
      "outputs": [
        {
          "output_type": "stream",
          "name": "stderr",
          "text": [
            "100%|██████████| 1208/1208 [00:00<00:00, 364958.53it/s]\n"
          ]
        }
      ],
      "source": [
        "sentence_chunk_size = 10\n",
        "\n",
        "def split_into_chunks(pages_and_texts):\n",
        "  def split_list(input_list: list, sentence_chunk_size: int):\n",
        "    return [input_list[i:i + sentence_chunk_size] for i in range(0, len(input_list), sentence_chunk_size)]\n",
        "\n",
        "  for item in tqdm(pages_and_texts):\n",
        "      item[\"sentence_chunks\"] = split_list(input_list=item[\"sentences\"],sentence_chunk_size=sentence_chunk_size)\n",
        "      item[\"num_chunks\"] = len(item[\"sentence_chunks\"])\n",
        "split_into_chunks(pages_and_texts)"
      ]
    },
    {
      "cell_type": "code",
      "execution_count": 8,
      "metadata": {
        "colab": {
          "base_uri": "https://localhost:8080/",
          "height": 556
        },
        "id": "CgkUUGSy6Nd6",
        "outputId": "98362e6f-37bb-4e49-d594-9c9d0d10e1b7"
      },
      "outputs": [
        {
          "output_type": "execute_result",
          "data": {
            "text/plain": [
              "   page_number  page_char_count  page_word_count  page_sentence_count_raw  \\\n",
              "0            1               31                5                        1   \n",
              "1            2                0                1                        1   \n",
              "2            3              322               43                        1   \n",
              "3            4              214               31                        2   \n",
              "4            5              799              115                        2   \n",
              "\n",
              "   page_token_count                                               text  \\\n",
              "0              7.75                      human nutrition: 2020 edition   \n",
              "1              0.00                                                      \n",
              "2             80.50  human nutrition: 2020 edition university of ha...   \n",
              "3             53.50  human nutrition: 2020 edition by university of...   \n",
              "4            199.75  contents preface university of hawai‘i at māno...   \n",
              "\n",
              "                                           sentences  \\\n",
              "0                    [human nutrition: 2020 edition]   \n",
              "1                                                 []   \n",
              "2  [human nutrition: 2020 edition university of h...   \n",
              "3  [human nutrition: 2020 edition by university o...   \n",
              "4  [contents preface university of hawai‘i at mān...   \n",
              "\n",
              "   page_sentence_count_spacy  \\\n",
              "0                          1   \n",
              "1                          0   \n",
              "2                          1   \n",
              "3                          1   \n",
              "4                          2   \n",
              "\n",
              "                                     sentence_chunks  num_chunks  \n",
              "0                  [[human nutrition: 2020 edition]]           1  \n",
              "1                                                 []           0  \n",
              "2  [[human nutrition: 2020 edition university of ...           1  \n",
              "3  [[human nutrition: 2020 edition by university ...           1  \n",
              "4  [[contents preface university of hawai‘i at mā...           1  "
            ],
            "text/html": [
              "\n",
              "  <div id=\"df-3e33ee62-bb44-44e8-bd8a-929763483c94\" class=\"colab-df-container\">\n",
              "    <div>\n",
              "<style scoped>\n",
              "    .dataframe tbody tr th:only-of-type {\n",
              "        vertical-align: middle;\n",
              "    }\n",
              "\n",
              "    .dataframe tbody tr th {\n",
              "        vertical-align: top;\n",
              "    }\n",
              "\n",
              "    .dataframe thead th {\n",
              "        text-align: right;\n",
              "    }\n",
              "</style>\n",
              "<table border=\"1\" class=\"dataframe\">\n",
              "  <thead>\n",
              "    <tr style=\"text-align: right;\">\n",
              "      <th></th>\n",
              "      <th>page_number</th>\n",
              "      <th>page_char_count</th>\n",
              "      <th>page_word_count</th>\n",
              "      <th>page_sentence_count_raw</th>\n",
              "      <th>page_token_count</th>\n",
              "      <th>text</th>\n",
              "      <th>sentences</th>\n",
              "      <th>page_sentence_count_spacy</th>\n",
              "      <th>sentence_chunks</th>\n",
              "      <th>num_chunks</th>\n",
              "    </tr>\n",
              "  </thead>\n",
              "  <tbody>\n",
              "    <tr>\n",
              "      <th>0</th>\n",
              "      <td>1</td>\n",
              "      <td>31</td>\n",
              "      <td>5</td>\n",
              "      <td>1</td>\n",
              "      <td>7.75</td>\n",
              "      <td>human nutrition: 2020 edition</td>\n",
              "      <td>[human nutrition: 2020 edition]</td>\n",
              "      <td>1</td>\n",
              "      <td>[[human nutrition: 2020 edition]]</td>\n",
              "      <td>1</td>\n",
              "    </tr>\n",
              "    <tr>\n",
              "      <th>1</th>\n",
              "      <td>2</td>\n",
              "      <td>0</td>\n",
              "      <td>1</td>\n",
              "      <td>1</td>\n",
              "      <td>0.00</td>\n",
              "      <td></td>\n",
              "      <td>[]</td>\n",
              "      <td>0</td>\n",
              "      <td>[]</td>\n",
              "      <td>0</td>\n",
              "    </tr>\n",
              "    <tr>\n",
              "      <th>2</th>\n",
              "      <td>3</td>\n",
              "      <td>322</td>\n",
              "      <td>43</td>\n",
              "      <td>1</td>\n",
              "      <td>80.50</td>\n",
              "      <td>human nutrition: 2020 edition university of ha...</td>\n",
              "      <td>[human nutrition: 2020 edition university of h...</td>\n",
              "      <td>1</td>\n",
              "      <td>[[human nutrition: 2020 edition university of ...</td>\n",
              "      <td>1</td>\n",
              "    </tr>\n",
              "    <tr>\n",
              "      <th>3</th>\n",
              "      <td>4</td>\n",
              "      <td>214</td>\n",
              "      <td>31</td>\n",
              "      <td>2</td>\n",
              "      <td>53.50</td>\n",
              "      <td>human nutrition: 2020 edition by university of...</td>\n",
              "      <td>[human nutrition: 2020 edition by university o...</td>\n",
              "      <td>1</td>\n",
              "      <td>[[human nutrition: 2020 edition by university ...</td>\n",
              "      <td>1</td>\n",
              "    </tr>\n",
              "    <tr>\n",
              "      <th>4</th>\n",
              "      <td>5</td>\n",
              "      <td>799</td>\n",
              "      <td>115</td>\n",
              "      <td>2</td>\n",
              "      <td>199.75</td>\n",
              "      <td>contents preface university of hawai‘i at māno...</td>\n",
              "      <td>[contents preface university of hawai‘i at mān...</td>\n",
              "      <td>2</td>\n",
              "      <td>[[contents preface university of hawai‘i at mā...</td>\n",
              "      <td>1</td>\n",
              "    </tr>\n",
              "  </tbody>\n",
              "</table>\n",
              "</div>\n",
              "    <div class=\"colab-df-buttons\">\n",
              "\n",
              "  <div class=\"colab-df-container\">\n",
              "    <button class=\"colab-df-convert\" onclick=\"convertToInteractive('df-3e33ee62-bb44-44e8-bd8a-929763483c94')\"\n",
              "            title=\"Convert this dataframe to an interactive table.\"\n",
              "            style=\"display:none;\">\n",
              "\n",
              "  <svg xmlns=\"http://www.w3.org/2000/svg\" height=\"24px\" viewBox=\"0 -960 960 960\">\n",
              "    <path d=\"M120-120v-720h720v720H120Zm60-500h600v-160H180v160Zm220 220h160v-160H400v160Zm0 220h160v-160H400v160ZM180-400h160v-160H180v160Zm440 0h160v-160H620v160ZM180-180h160v-160H180v160Zm440 0h160v-160H620v160Z\"/>\n",
              "  </svg>\n",
              "    </button>\n",
              "\n",
              "  <style>\n",
              "    .colab-df-container {\n",
              "      display:flex;\n",
              "      gap: 12px;\n",
              "    }\n",
              "\n",
              "    .colab-df-convert {\n",
              "      background-color: #E8F0FE;\n",
              "      border: none;\n",
              "      border-radius: 50%;\n",
              "      cursor: pointer;\n",
              "      display: none;\n",
              "      fill: #1967D2;\n",
              "      height: 32px;\n",
              "      padding: 0 0 0 0;\n",
              "      width: 32px;\n",
              "    }\n",
              "\n",
              "    .colab-df-convert:hover {\n",
              "      background-color: #E2EBFA;\n",
              "      box-shadow: 0px 1px 2px rgba(60, 64, 67, 0.3), 0px 1px 3px 1px rgba(60, 64, 67, 0.15);\n",
              "      fill: #174EA6;\n",
              "    }\n",
              "\n",
              "    .colab-df-buttons div {\n",
              "      margin-bottom: 4px;\n",
              "    }\n",
              "\n",
              "    [theme=dark] .colab-df-convert {\n",
              "      background-color: #3B4455;\n",
              "      fill: #D2E3FC;\n",
              "    }\n",
              "\n",
              "    [theme=dark] .colab-df-convert:hover {\n",
              "      background-color: #434B5C;\n",
              "      box-shadow: 0px 1px 3px 1px rgba(0, 0, 0, 0.15);\n",
              "      filter: drop-shadow(0px 1px 2px rgba(0, 0, 0, 0.3));\n",
              "      fill: #FFFFFF;\n",
              "    }\n",
              "  </style>\n",
              "\n",
              "    <script>\n",
              "      const buttonEl =\n",
              "        document.querySelector('#df-3e33ee62-bb44-44e8-bd8a-929763483c94 button.colab-df-convert');\n",
              "      buttonEl.style.display =\n",
              "        google.colab.kernel.accessAllowed ? 'block' : 'none';\n",
              "\n",
              "      async function convertToInteractive(key) {\n",
              "        const element = document.querySelector('#df-3e33ee62-bb44-44e8-bd8a-929763483c94');\n",
              "        const dataTable =\n",
              "          await google.colab.kernel.invokeFunction('convertToInteractive',\n",
              "                                                    [key], {});\n",
              "        if (!dataTable) return;\n",
              "\n",
              "        const docLinkHtml = 'Like what you see? Visit the ' +\n",
              "          '<a target=\"_blank\" href=https://colab.research.google.com/notebooks/data_table.ipynb>data table notebook</a>'\n",
              "          + ' to learn more about interactive tables.';\n",
              "        element.innerHTML = '';\n",
              "        dataTable['output_type'] = 'display_data';\n",
              "        await google.colab.output.renderOutput(dataTable, element);\n",
              "        const docLink = document.createElement('div');\n",
              "        docLink.innerHTML = docLinkHtml;\n",
              "        element.appendChild(docLink);\n",
              "      }\n",
              "    </script>\n",
              "  </div>\n",
              "\n",
              "\n",
              "<div id=\"df-373c5249-7d7d-4bd7-b2c1-7b0e14a2e25b\">\n",
              "  <button class=\"colab-df-quickchart\" onclick=\"quickchart('df-373c5249-7d7d-4bd7-b2c1-7b0e14a2e25b')\"\n",
              "            title=\"Suggest charts\"\n",
              "            style=\"display:none;\">\n",
              "\n",
              "<svg xmlns=\"http://www.w3.org/2000/svg\" height=\"24px\"viewBox=\"0 0 24 24\"\n",
              "     width=\"24px\">\n",
              "    <g>\n",
              "        <path d=\"M19 3H5c-1.1 0-2 .9-2 2v14c0 1.1.9 2 2 2h14c1.1 0 2-.9 2-2V5c0-1.1-.9-2-2-2zM9 17H7v-7h2v7zm4 0h-2V7h2v10zm4 0h-2v-4h2v4z\"/>\n",
              "    </g>\n",
              "</svg>\n",
              "  </button>\n",
              "\n",
              "<style>\n",
              "  .colab-df-quickchart {\n",
              "      --bg-color: #E8F0FE;\n",
              "      --fill-color: #1967D2;\n",
              "      --hover-bg-color: #E2EBFA;\n",
              "      --hover-fill-color: #174EA6;\n",
              "      --disabled-fill-color: #AAA;\n",
              "      --disabled-bg-color: #DDD;\n",
              "  }\n",
              "\n",
              "  [theme=dark] .colab-df-quickchart {\n",
              "      --bg-color: #3B4455;\n",
              "      --fill-color: #D2E3FC;\n",
              "      --hover-bg-color: #434B5C;\n",
              "      --hover-fill-color: #FFFFFF;\n",
              "      --disabled-bg-color: #3B4455;\n",
              "      --disabled-fill-color: #666;\n",
              "  }\n",
              "\n",
              "  .colab-df-quickchart {\n",
              "    background-color: var(--bg-color);\n",
              "    border: none;\n",
              "    border-radius: 50%;\n",
              "    cursor: pointer;\n",
              "    display: none;\n",
              "    fill: var(--fill-color);\n",
              "    height: 32px;\n",
              "    padding: 0;\n",
              "    width: 32px;\n",
              "  }\n",
              "\n",
              "  .colab-df-quickchart:hover {\n",
              "    background-color: var(--hover-bg-color);\n",
              "    box-shadow: 0 1px 2px rgba(60, 64, 67, 0.3), 0 1px 3px 1px rgba(60, 64, 67, 0.15);\n",
              "    fill: var(--button-hover-fill-color);\n",
              "  }\n",
              "\n",
              "  .colab-df-quickchart-complete:disabled,\n",
              "  .colab-df-quickchart-complete:disabled:hover {\n",
              "    background-color: var(--disabled-bg-color);\n",
              "    fill: var(--disabled-fill-color);\n",
              "    box-shadow: none;\n",
              "  }\n",
              "\n",
              "  .colab-df-spinner {\n",
              "    border: 2px solid var(--fill-color);\n",
              "    border-color: transparent;\n",
              "    border-bottom-color: var(--fill-color);\n",
              "    animation:\n",
              "      spin 1s steps(1) infinite;\n",
              "  }\n",
              "\n",
              "  @keyframes spin {\n",
              "    0% {\n",
              "      border-color: transparent;\n",
              "      border-bottom-color: var(--fill-color);\n",
              "      border-left-color: var(--fill-color);\n",
              "    }\n",
              "    20% {\n",
              "      border-color: transparent;\n",
              "      border-left-color: var(--fill-color);\n",
              "      border-top-color: var(--fill-color);\n",
              "    }\n",
              "    30% {\n",
              "      border-color: transparent;\n",
              "      border-left-color: var(--fill-color);\n",
              "      border-top-color: var(--fill-color);\n",
              "      border-right-color: var(--fill-color);\n",
              "    }\n",
              "    40% {\n",
              "      border-color: transparent;\n",
              "      border-right-color: var(--fill-color);\n",
              "      border-top-color: var(--fill-color);\n",
              "    }\n",
              "    60% {\n",
              "      border-color: transparent;\n",
              "      border-right-color: var(--fill-color);\n",
              "    }\n",
              "    80% {\n",
              "      border-color: transparent;\n",
              "      border-right-color: var(--fill-color);\n",
              "      border-bottom-color: var(--fill-color);\n",
              "    }\n",
              "    90% {\n",
              "      border-color: transparent;\n",
              "      border-bottom-color: var(--fill-color);\n",
              "    }\n",
              "  }\n",
              "</style>\n",
              "\n",
              "  <script>\n",
              "    async function quickchart(key) {\n",
              "      const quickchartButtonEl =\n",
              "        document.querySelector('#' + key + ' button');\n",
              "      quickchartButtonEl.disabled = true;  // To prevent multiple clicks.\n",
              "      quickchartButtonEl.classList.add('colab-df-spinner');\n",
              "      try {\n",
              "        const charts = await google.colab.kernel.invokeFunction(\n",
              "            'suggestCharts', [key], {});\n",
              "      } catch (error) {\n",
              "        console.error('Error during call to suggestCharts:', error);\n",
              "      }\n",
              "      quickchartButtonEl.classList.remove('colab-df-spinner');\n",
              "      quickchartButtonEl.classList.add('colab-df-quickchart-complete');\n",
              "    }\n",
              "    (() => {\n",
              "      let quickchartButtonEl =\n",
              "        document.querySelector('#df-373c5249-7d7d-4bd7-b2c1-7b0e14a2e25b button');\n",
              "      quickchartButtonEl.style.display =\n",
              "        google.colab.kernel.accessAllowed ? 'block' : 'none';\n",
              "    })();\n",
              "  </script>\n",
              "</div>\n",
              "\n",
              "    </div>\n",
              "  </div>\n"
            ],
            "application/vnd.google.colaboratory.intrinsic+json": {
              "type": "dataframe",
              "variable_name": "df",
              "summary": "{\n  \"name\": \"df\",\n  \"rows\": 1208,\n  \"fields\": [\n    {\n      \"column\": \"page_number\",\n      \"properties\": {\n        \"dtype\": \"number\",\n        \"std\": 348,\n        \"min\": 1,\n        \"max\": 1208,\n        \"num_unique_values\": 1208,\n        \"samples\": [\n          102,\n          755,\n          309\n        ],\n        \"semantic_type\": \"\",\n        \"description\": \"\"\n      }\n    },\n    {\n      \"column\": \"page_char_count\",\n      \"properties\": {\n        \"dtype\": \"number\",\n        \"std\": 560,\n        \"min\": 0,\n        \"max\": 2309,\n        \"num_unique_values\": 888,\n        \"samples\": [\n          2012,\n          863,\n          909\n        ],\n        \"semantic_type\": \"\",\n        \"description\": \"\"\n      }\n    },\n    {\n      \"column\": \"page_word_count\",\n      \"properties\": {\n        \"dtype\": \"number\",\n        \"std\": 86,\n        \"min\": 1,\n        \"max\": 394,\n        \"num_unique_values\": 314,\n        \"samples\": [\n          346,\n          174,\n          324\n        ],\n        \"semantic_type\": \"\",\n        \"description\": \"\"\n      }\n    },\n    {\n      \"column\": \"page_sentence_count_raw\",\n      \"properties\": {\n        \"dtype\": \"number\",\n        \"std\": 6,\n        \"min\": 1,\n        \"max\": 32,\n        \"num_unique_values\": 31,\n        \"samples\": [\n          28,\n          24,\n          22\n        ],\n        \"semantic_type\": \"\",\n        \"description\": \"\"\n      }\n    },\n    {\n      \"column\": \"page_token_count\",\n      \"properties\": {\n        \"dtype\": \"number\",\n        \"std\": 140.10178714814379,\n        \"min\": 0.0,\n        \"max\": 577.25,\n        \"num_unique_values\": 888,\n        \"samples\": [\n          503.0,\n          215.75,\n          227.25\n        ],\n        \"semantic_type\": \"\",\n        \"description\": \"\"\n      }\n    },\n    {\n      \"column\": \"text\",\n      \"properties\": {\n        \"dtype\": \"string\",\n        \"num_unique_values\": 1180,\n        \"samples\": [\n          \"electrolytes important for fluid balance university of hawai\\u2018i at m\\u0101noa food science and human nutrition program and human nutrition program cells are about 75 percent water and blood plasma is about 95 percent water. why then, does the water not flow from blood plasma to cells? the force of water also known as hydrostatic pressure maintains the volumes of water between fluid compartments against the force of all dissolved substances. the concentration is the amount of particles in a set volume of water. (recall that individual solutes can differ in concentration between the intracellular and extracellular fluids, but the total concentration of all dissolved substances is equal.) the force driving the water movement through the selectively permeable membrane is the higher solute concentration on the one side. solutes at different concentrations on either side of a selectively permeable membrane exert a force, called osmotic pressure. the higher concentration of solutes on one side compared to the other of the u-tube exerts osmotic pressure, pulling the water to a higher volume on the side of the u-tube containing more dissolved particles. when the osmotic pressure is equal to the pressure of the water on the selectively permeable membrane, net water movement stops (though it still diffuses back and forth at an equal rate). one equation exemplifying equal concentrations but different volumes is the following 5 grams of glucose in 1 liter = 10 grams of glucose in 2 liters (5g/l = 5g/l) the differences in concentrations of particular substances provide concentration gradients that cells can use to perform work. a concentration gradient is a form of potential energy, like water 172 | electrolytes important for fluid balance\",\n          \"units of measure university of hawai\\u2018i at m\\u0101noa food science and human nutrition program and human nutrition program in nutrition, there are two systems of commonly used measurements: metric and us customary. we need both because the us won\\u2019t adopt the metric system completely. the metric and us customary system these are commonly used prefixes for the metric system: micro- (\\u03bc) 1/1,000,000th (one millionth) milli- (m) 1/1000th (one thousandth) centi- (c) 1/100th (one hundredth) deci- (d) 1/10th (one tenth) kilo- (k) 1000x (one thousand times) mass metric system us customary system conversions microgram (\\u03bcg) ounce (oz) 1 oz = 28.35 g milligram (mg) pound (lb) 1 lb = 16 oz gram (g) 1 lb = 454 g kilogram (kg) 1 kg = 2.2 lbs 18 | units of measure\",\n          \"activity level. for example, dental problems can lead to difficulties with chewing and swallowing, which in turn can make it hard to maintain a healthy diet. the use of dentures or the preparation of pureed or chopped foods can help solve this problem. there also is a decreased thirst response in the elderly, and the kidneys have a decreased ability to concentrate urine, both of which can lead to dehydration. sensory issues at about age sixty, taste buds begin to decrease in size and number. as a result, the taste threshold is higher in older adults, meaning that more of the same flavor must be present to detect the taste. many elderly people lose the ability to distinguish between salty, sour, sweet, and bitter flavors. this can make food seem less appealing and decrease the appetite. an intake of foods high in sugar and sodium can increase due to an inability to discern those tastes. the sense of smell also decreases, which impacts attitudes toward food. sensory issues may also affect the digestion because the taste and smell of food stimulates the secretion of digestive enzymes in the mouth, stomach, and pancreas. dysphagia some older adults have difficulty getting adequate nutrition because of the disorder dysphagia, which impairs the ability to swallow. any damage to the parts of the brain that control swallowing can result in dysphagia, therefore stroke is a common cause. dysphagia is also associated with advanced dementia because of overall brain function impairment. to assist older adults suffering from dysphagia, it can be helpful to alter food consistency. older adulthood: the golden years | 923\"\n        ],\n        \"semantic_type\": \"\",\n        \"description\": \"\"\n      }\n    },\n    {\n      \"column\": \"sentences\",\n      \"properties\": {\n        \"dtype\": \"object\",\n        \"semantic_type\": \"\",\n        \"description\": \"\"\n      }\n    },\n    {\n      \"column\": \"page_sentence_count_spacy\",\n      \"properties\": {\n        \"dtype\": \"number\",\n        \"std\": 6,\n        \"min\": 0,\n        \"max\": 29,\n        \"num_unique_values\": 30,\n        \"samples\": [\n          26,\n          21,\n          23\n        ],\n        \"semantic_type\": \"\",\n        \"description\": \"\"\n      }\n    },\n    {\n      \"column\": \"sentence_chunks\",\n      \"properties\": {\n        \"dtype\": \"object\",\n        \"semantic_type\": \"\",\n        \"description\": \"\"\n      }\n    },\n    {\n      \"column\": \"num_chunks\",\n      \"properties\": {\n        \"dtype\": \"number\",\n        \"std\": 0,\n        \"min\": 0,\n        \"max\": 3,\n        \"num_unique_values\": 4,\n        \"samples\": [\n          0,\n          3,\n          1\n        ],\n        \"semantic_type\": \"\",\n        \"description\": \"\"\n      }\n    }\n  ]\n}"
            }
          },
          "metadata": {},
          "execution_count": 8
        }
      ],
      "source": [
        "df = pd.DataFrame(pages_and_texts)\n",
        "df.head()"
      ]
    },
    {
      "cell_type": "code",
      "execution_count": 9,
      "metadata": {
        "colab": {
          "base_uri": "https://localhost:8080/"
        },
        "id": "OS459Tg17s-L",
        "outputId": "7b3a9eb5-0f17-46f7-f74b-4d9b8fe3cc34"
      },
      "outputs": [
        {
          "output_type": "stream",
          "name": "stderr",
          "text": [
            "100%|██████████| 1208/1208 [00:00<00:00, 36834.13it/s]\n"
          ]
        }
      ],
      "source": [
        "import re\n",
        "\n",
        "def create_chunks(pages_and_texts):\n",
        "  chunks = []\n",
        "  for item in tqdm(pages_and_texts):\n",
        "      for sentence_chunk in item[\"sentence_chunks\"]:\n",
        "          chunk_dict = {}\n",
        "          chunk_dict[\"page_number\"] = item[\"page_number\"]\n",
        "\n",
        "          # Join the sentences together into a paragraph-like structure, aka a chunk (so they are a single string)\n",
        "          joined_sentence_chunk = \"\".join(sentence_chunk).replace(\"  \", \" \").strip()\n",
        "          joined_sentence_chunk = re.sub(r'\\.([A-Z])', r'. \\1', joined_sentence_chunk) # \".A\" -> \". A\" for any full-stop/capital letter combo\n",
        "          chunk_dict[\"sentence_chunk\"] = joined_sentence_chunk\n",
        "\n",
        "          # Get stats about the chunk\n",
        "          chunk_dict[\"chunk_char_count\"] = len(joined_sentence_chunk)\n",
        "          chunk_dict[\"chunk_word_count\"] = len([word for word in joined_sentence_chunk.split(\" \")])\n",
        "          chunk_dict[\"chunk_token_count\"] = len(joined_sentence_chunk) / 4 # 1 token = ~4 characters\n",
        "\n",
        "          chunks.append(chunk_dict)\n",
        "  return chunks\n",
        "chunks=create_chunks(pages_and_texts)"
      ]
    },
    {
      "cell_type": "code",
      "execution_count": 10,
      "metadata": {
        "colab": {
          "base_uri": "https://localhost:8080/"
        },
        "id": "Mr9FRPll9fWn",
        "outputId": "e840ce78-2227-46de-aa00-4eb36821d365"
      },
      "outputs": [
        {
          "output_type": "execute_result",
          "data": {
            "text/plain": [
              "1845"
            ]
          },
          "metadata": {},
          "execution_count": 10
        }
      ],
      "source": [
        "len(chunks)"
      ]
    },
    {
      "cell_type": "code",
      "execution_count": 11,
      "metadata": {
        "colab": {
          "base_uri": "https://localhost:8080/",
          "height": 206
        },
        "id": "ch_SMAlu-L8i",
        "outputId": "1cfb0684-efb3-41c4-86f0-b71dd099c658"
      },
      "outputs": [
        {
          "output_type": "execute_result",
          "data": {
            "text/plain": [
              "   page_number                                     sentence_chunk  \\\n",
              "0            1                      human nutrition: 2020 edition   \n",
              "1            3  human nutrition: 2020 edition university of ha...   \n",
              "2            4  human nutrition: 2020 edition by university of...   \n",
              "3            5  contents preface university of hawai‘i at māno...   \n",
              "4            6  lifestyles and nutrition university of hawai‘i...   \n",
              "\n",
              "   chunk_char_count  chunk_word_count  chunk_token_count  \n",
              "0                29                 4               7.25  \n",
              "1               308                42              77.00  \n",
              "2               210                30              52.50  \n",
              "3               765               115             191.25  \n",
              "4               939               142             234.75  "
            ],
            "text/html": [
              "\n",
              "  <div id=\"df-70f3e12d-343d-48af-9f80-0985fb0fe919\" class=\"colab-df-container\">\n",
              "    <div>\n",
              "<style scoped>\n",
              "    .dataframe tbody tr th:only-of-type {\n",
              "        vertical-align: middle;\n",
              "    }\n",
              "\n",
              "    .dataframe tbody tr th {\n",
              "        vertical-align: top;\n",
              "    }\n",
              "\n",
              "    .dataframe thead th {\n",
              "        text-align: right;\n",
              "    }\n",
              "</style>\n",
              "<table border=\"1\" class=\"dataframe\">\n",
              "  <thead>\n",
              "    <tr style=\"text-align: right;\">\n",
              "      <th></th>\n",
              "      <th>page_number</th>\n",
              "      <th>sentence_chunk</th>\n",
              "      <th>chunk_char_count</th>\n",
              "      <th>chunk_word_count</th>\n",
              "      <th>chunk_token_count</th>\n",
              "    </tr>\n",
              "  </thead>\n",
              "  <tbody>\n",
              "    <tr>\n",
              "      <th>0</th>\n",
              "      <td>1</td>\n",
              "      <td>human nutrition: 2020 edition</td>\n",
              "      <td>29</td>\n",
              "      <td>4</td>\n",
              "      <td>7.25</td>\n",
              "    </tr>\n",
              "    <tr>\n",
              "      <th>1</th>\n",
              "      <td>3</td>\n",
              "      <td>human nutrition: 2020 edition university of ha...</td>\n",
              "      <td>308</td>\n",
              "      <td>42</td>\n",
              "      <td>77.00</td>\n",
              "    </tr>\n",
              "    <tr>\n",
              "      <th>2</th>\n",
              "      <td>4</td>\n",
              "      <td>human nutrition: 2020 edition by university of...</td>\n",
              "      <td>210</td>\n",
              "      <td>30</td>\n",
              "      <td>52.50</td>\n",
              "    </tr>\n",
              "    <tr>\n",
              "      <th>3</th>\n",
              "      <td>5</td>\n",
              "      <td>contents preface university of hawai‘i at māno...</td>\n",
              "      <td>765</td>\n",
              "      <td>115</td>\n",
              "      <td>191.25</td>\n",
              "    </tr>\n",
              "    <tr>\n",
              "      <th>4</th>\n",
              "      <td>6</td>\n",
              "      <td>lifestyles and nutrition university of hawai‘i...</td>\n",
              "      <td>939</td>\n",
              "      <td>142</td>\n",
              "      <td>234.75</td>\n",
              "    </tr>\n",
              "  </tbody>\n",
              "</table>\n",
              "</div>\n",
              "    <div class=\"colab-df-buttons\">\n",
              "\n",
              "  <div class=\"colab-df-container\">\n",
              "    <button class=\"colab-df-convert\" onclick=\"convertToInteractive('df-70f3e12d-343d-48af-9f80-0985fb0fe919')\"\n",
              "            title=\"Convert this dataframe to an interactive table.\"\n",
              "            style=\"display:none;\">\n",
              "\n",
              "  <svg xmlns=\"http://www.w3.org/2000/svg\" height=\"24px\" viewBox=\"0 -960 960 960\">\n",
              "    <path d=\"M120-120v-720h720v720H120Zm60-500h600v-160H180v160Zm220 220h160v-160H400v160Zm0 220h160v-160H400v160ZM180-400h160v-160H180v160Zm440 0h160v-160H620v160ZM180-180h160v-160H180v160Zm440 0h160v-160H620v160Z\"/>\n",
              "  </svg>\n",
              "    </button>\n",
              "\n",
              "  <style>\n",
              "    .colab-df-container {\n",
              "      display:flex;\n",
              "      gap: 12px;\n",
              "    }\n",
              "\n",
              "    .colab-df-convert {\n",
              "      background-color: #E8F0FE;\n",
              "      border: none;\n",
              "      border-radius: 50%;\n",
              "      cursor: pointer;\n",
              "      display: none;\n",
              "      fill: #1967D2;\n",
              "      height: 32px;\n",
              "      padding: 0 0 0 0;\n",
              "      width: 32px;\n",
              "    }\n",
              "\n",
              "    .colab-df-convert:hover {\n",
              "      background-color: #E2EBFA;\n",
              "      box-shadow: 0px 1px 2px rgba(60, 64, 67, 0.3), 0px 1px 3px 1px rgba(60, 64, 67, 0.15);\n",
              "      fill: #174EA6;\n",
              "    }\n",
              "\n",
              "    .colab-df-buttons div {\n",
              "      margin-bottom: 4px;\n",
              "    }\n",
              "\n",
              "    [theme=dark] .colab-df-convert {\n",
              "      background-color: #3B4455;\n",
              "      fill: #D2E3FC;\n",
              "    }\n",
              "\n",
              "    [theme=dark] .colab-df-convert:hover {\n",
              "      background-color: #434B5C;\n",
              "      box-shadow: 0px 1px 3px 1px rgba(0, 0, 0, 0.15);\n",
              "      filter: drop-shadow(0px 1px 2px rgba(0, 0, 0, 0.3));\n",
              "      fill: #FFFFFF;\n",
              "    }\n",
              "  </style>\n",
              "\n",
              "    <script>\n",
              "      const buttonEl =\n",
              "        document.querySelector('#df-70f3e12d-343d-48af-9f80-0985fb0fe919 button.colab-df-convert');\n",
              "      buttonEl.style.display =\n",
              "        google.colab.kernel.accessAllowed ? 'block' : 'none';\n",
              "\n",
              "      async function convertToInteractive(key) {\n",
              "        const element = document.querySelector('#df-70f3e12d-343d-48af-9f80-0985fb0fe919');\n",
              "        const dataTable =\n",
              "          await google.colab.kernel.invokeFunction('convertToInteractive',\n",
              "                                                    [key], {});\n",
              "        if (!dataTable) return;\n",
              "\n",
              "        const docLinkHtml = 'Like what you see? Visit the ' +\n",
              "          '<a target=\"_blank\" href=https://colab.research.google.com/notebooks/data_table.ipynb>data table notebook</a>'\n",
              "          + ' to learn more about interactive tables.';\n",
              "        element.innerHTML = '';\n",
              "        dataTable['output_type'] = 'display_data';\n",
              "        await google.colab.output.renderOutput(dataTable, element);\n",
              "        const docLink = document.createElement('div');\n",
              "        docLink.innerHTML = docLinkHtml;\n",
              "        element.appendChild(docLink);\n",
              "      }\n",
              "    </script>\n",
              "  </div>\n",
              "\n",
              "\n",
              "<div id=\"df-032fb9e2-b243-440e-a2fd-932cfd18e170\">\n",
              "  <button class=\"colab-df-quickchart\" onclick=\"quickchart('df-032fb9e2-b243-440e-a2fd-932cfd18e170')\"\n",
              "            title=\"Suggest charts\"\n",
              "            style=\"display:none;\">\n",
              "\n",
              "<svg xmlns=\"http://www.w3.org/2000/svg\" height=\"24px\"viewBox=\"0 0 24 24\"\n",
              "     width=\"24px\">\n",
              "    <g>\n",
              "        <path d=\"M19 3H5c-1.1 0-2 .9-2 2v14c0 1.1.9 2 2 2h14c1.1 0 2-.9 2-2V5c0-1.1-.9-2-2-2zM9 17H7v-7h2v7zm4 0h-2V7h2v10zm4 0h-2v-4h2v4z\"/>\n",
              "    </g>\n",
              "</svg>\n",
              "  </button>\n",
              "\n",
              "<style>\n",
              "  .colab-df-quickchart {\n",
              "      --bg-color: #E8F0FE;\n",
              "      --fill-color: #1967D2;\n",
              "      --hover-bg-color: #E2EBFA;\n",
              "      --hover-fill-color: #174EA6;\n",
              "      --disabled-fill-color: #AAA;\n",
              "      --disabled-bg-color: #DDD;\n",
              "  }\n",
              "\n",
              "  [theme=dark] .colab-df-quickchart {\n",
              "      --bg-color: #3B4455;\n",
              "      --fill-color: #D2E3FC;\n",
              "      --hover-bg-color: #434B5C;\n",
              "      --hover-fill-color: #FFFFFF;\n",
              "      --disabled-bg-color: #3B4455;\n",
              "      --disabled-fill-color: #666;\n",
              "  }\n",
              "\n",
              "  .colab-df-quickchart {\n",
              "    background-color: var(--bg-color);\n",
              "    border: none;\n",
              "    border-radius: 50%;\n",
              "    cursor: pointer;\n",
              "    display: none;\n",
              "    fill: var(--fill-color);\n",
              "    height: 32px;\n",
              "    padding: 0;\n",
              "    width: 32px;\n",
              "  }\n",
              "\n",
              "  .colab-df-quickchart:hover {\n",
              "    background-color: var(--hover-bg-color);\n",
              "    box-shadow: 0 1px 2px rgba(60, 64, 67, 0.3), 0 1px 3px 1px rgba(60, 64, 67, 0.15);\n",
              "    fill: var(--button-hover-fill-color);\n",
              "  }\n",
              "\n",
              "  .colab-df-quickchart-complete:disabled,\n",
              "  .colab-df-quickchart-complete:disabled:hover {\n",
              "    background-color: var(--disabled-bg-color);\n",
              "    fill: var(--disabled-fill-color);\n",
              "    box-shadow: none;\n",
              "  }\n",
              "\n",
              "  .colab-df-spinner {\n",
              "    border: 2px solid var(--fill-color);\n",
              "    border-color: transparent;\n",
              "    border-bottom-color: var(--fill-color);\n",
              "    animation:\n",
              "      spin 1s steps(1) infinite;\n",
              "  }\n",
              "\n",
              "  @keyframes spin {\n",
              "    0% {\n",
              "      border-color: transparent;\n",
              "      border-bottom-color: var(--fill-color);\n",
              "      border-left-color: var(--fill-color);\n",
              "    }\n",
              "    20% {\n",
              "      border-color: transparent;\n",
              "      border-left-color: var(--fill-color);\n",
              "      border-top-color: var(--fill-color);\n",
              "    }\n",
              "    30% {\n",
              "      border-color: transparent;\n",
              "      border-left-color: var(--fill-color);\n",
              "      border-top-color: var(--fill-color);\n",
              "      border-right-color: var(--fill-color);\n",
              "    }\n",
              "    40% {\n",
              "      border-color: transparent;\n",
              "      border-right-color: var(--fill-color);\n",
              "      border-top-color: var(--fill-color);\n",
              "    }\n",
              "    60% {\n",
              "      border-color: transparent;\n",
              "      border-right-color: var(--fill-color);\n",
              "    }\n",
              "    80% {\n",
              "      border-color: transparent;\n",
              "      border-right-color: var(--fill-color);\n",
              "      border-bottom-color: var(--fill-color);\n",
              "    }\n",
              "    90% {\n",
              "      border-color: transparent;\n",
              "      border-bottom-color: var(--fill-color);\n",
              "    }\n",
              "  }\n",
              "</style>\n",
              "\n",
              "  <script>\n",
              "    async function quickchart(key) {\n",
              "      const quickchartButtonEl =\n",
              "        document.querySelector('#' + key + ' button');\n",
              "      quickchartButtonEl.disabled = true;  // To prevent multiple clicks.\n",
              "      quickchartButtonEl.classList.add('colab-df-spinner');\n",
              "      try {\n",
              "        const charts = await google.colab.kernel.invokeFunction(\n",
              "            'suggestCharts', [key], {});\n",
              "      } catch (error) {\n",
              "        console.error('Error during call to suggestCharts:', error);\n",
              "      }\n",
              "      quickchartButtonEl.classList.remove('colab-df-spinner');\n",
              "      quickchartButtonEl.classList.add('colab-df-quickchart-complete');\n",
              "    }\n",
              "    (() => {\n",
              "      let quickchartButtonEl =\n",
              "        document.querySelector('#df-032fb9e2-b243-440e-a2fd-932cfd18e170 button');\n",
              "      quickchartButtonEl.style.display =\n",
              "        google.colab.kernel.accessAllowed ? 'block' : 'none';\n",
              "    })();\n",
              "  </script>\n",
              "</div>\n",
              "\n",
              "    </div>\n",
              "  </div>\n"
            ],
            "application/vnd.google.colaboratory.intrinsic+json": {
              "type": "dataframe",
              "variable_name": "chunks_df",
              "summary": "{\n  \"name\": \"chunks_df\",\n  \"rows\": 1845,\n  \"fields\": [\n    {\n      \"column\": \"page_number\",\n      \"properties\": {\n        \"dtype\": \"number\",\n        \"std\": 347,\n        \"min\": 1,\n        \"max\": 1208,\n        \"num_unique_values\": 1179,\n        \"samples\": [\n          215,\n          61,\n          687\n        ],\n        \"semantic_type\": \"\",\n        \"description\": \"\"\n      }\n    },\n    {\n      \"column\": \"sentence_chunk\",\n      \"properties\": {\n        \"dtype\": \"string\",\n        \"num_unique_values\": 1845,\n        \"samples\": [\n          \"last modified march 4, 2010.http://www.fsis.usda.gov/factsheets/ molds_on_food/. 1006 | the causes of food contamination\",\n          \"fruits, vegetables, low-fat dairy foods, state: health beneficial effects at physiologic doses versus deleterious effects at high doses.oxidative medicine and cellular longevity, 3(4), 228\\u201337.http://www.ncbi.nlm.nih.gov/pmc/articles/ pmc2952083/?tool=pubmed.accessed november 22, 2017.5.sofi f, et al. (2008).adherence to mediterranean diet and health status: meta-analysis.british medical journal, 337, a1344.http://www.ncbi.nlm.nih.gov/pmc/ articles/pmc2533524/. accessed november 22, 2017.\",\n          \"http://www.nwcr.ws/research/default.htm.accessed september 22, 2017.502 | dietary, behavioral, and physical activity recommendations for weight management\"\n        ],\n        \"semantic_type\": \"\",\n        \"description\": \"\"\n      }\n    },\n    {\n      \"column\": \"chunk_char_count\",\n      \"properties\": {\n        \"dtype\": \"number\",\n        \"std\": 444,\n        \"min\": 12,\n        \"max\": 1823,\n        \"num_unique_values\": 1072,\n        \"samples\": [\n          431,\n          322,\n          1665\n        ],\n        \"semantic_type\": \"\",\n        \"description\": \"\"\n      }\n    },\n    {\n      \"column\": \"chunk_word_count\",\n      \"properties\": {\n        \"dtype\": \"number\",\n        \"std\": 68,\n        \"min\": 3,\n        \"max\": 290,\n        \"num_unique_values\": 252,\n        \"samples\": [\n          65,\n          150,\n          203\n        ],\n        \"semantic_type\": \"\",\n        \"description\": \"\"\n      }\n    },\n    {\n      \"column\": \"chunk_token_count\",\n      \"properties\": {\n        \"dtype\": \"number\",\n        \"std\": 111.22277446738002,\n        \"min\": 3.0,\n        \"max\": 455.75,\n        \"num_unique_values\": 1072,\n        \"samples\": [\n          107.75,\n          80.5,\n          416.25\n        ],\n        \"semantic_type\": \"\",\n        \"description\": \"\"\n      }\n    }\n  ]\n}"
            }
          },
          "metadata": {},
          "execution_count": 11
        }
      ],
      "source": [
        "chunks_df = pd.DataFrame(chunks)\n",
        "chunks_df.head()"
      ]
    },
    {
      "cell_type": "markdown",
      "metadata": {
        "id": "Wf8pMU4r-97S"
      },
      "source": [
        "Assuming that sentences with a maximum of 20 tokens(=15 words) re irrelevnt (page titles, etc...) let's filer them out."
      ]
    },
    {
      "cell_type": "code",
      "execution_count": 12,
      "metadata": {
        "id": "L6ABUUyL-tLa"
      },
      "outputs": [],
      "source": [
        "min_token_length = 20\n",
        "chunks= chunks_df[chunks_df[\"chunk_token_count\"] > min_token_length].to_dict(orient=\"records\")"
      ]
    },
    {
      "cell_type": "code",
      "execution_count": 13,
      "metadata": {
        "colab": {
          "base_uri": "https://localhost:8080/"
        },
        "id": "3ow_WQCJ_SLR",
        "outputId": "aeabd5db-b759-4090-c4b4-1a59bd6114de"
      },
      "outputs": [
        {
          "output_type": "execute_result",
          "data": {
            "text/plain": [
              "1748"
            ]
          },
          "metadata": {},
          "execution_count": 13
        }
      ],
      "source": [
        "len(chunks)"
      ]
    },
    {
      "cell_type": "code",
      "execution_count": 14,
      "metadata": {
        "id": "Qr-UCtmbIFnv"
      },
      "outputs": [],
      "source": [
        "chunks_df = pd.DataFrame(chunks)\n",
        "chunks_df.to_csv('chunks.csv', index=False)"
      ]
    },
    {
      "cell_type": "markdown",
      "metadata": {
        "id": "TR6-BzJY_gVj"
      },
      "source": [
        "# Embedding the Data"
      ]
    },
    {
      "cell_type": "code",
      "execution_count": 17,
      "metadata": {
        "id": "hSsPETgY__0i"
      },
      "outputs": [],
      "source": [
        "from sentence_transformers import SentenceTransformer\n",
        "embedding_model = SentenceTransformer(model_name_or_path=\"all-mpnet-base-v2\",device=\"cuda\")"
      ]
    },
    {
      "cell_type": "code",
      "execution_count": 18,
      "metadata": {
        "id": "_Ra_ctg1IFnw"
      },
      "outputs": [],
      "source": [
        "text_chunks = [item[\"sentence_chunk\"] for item in chunks]\n",
        "text_chunk_embeddings = embedding_model.encode(text_chunks,batch_size=32,convert_to_tensor=True)"
      ]
    },
    {
      "cell_type": "code",
      "execution_count": 31,
      "metadata": {
        "colab": {
          "base_uri": "https://localhost:8080/"
        },
        "id": "3vbOXO-NIFnw",
        "outputId": "6e7517d6-daca-4898-8de4-224c0c91857e"
      },
      "outputs": [
        {
          "output_type": "execute_result",
          "data": {
            "text/plain": [
              "torch.Size([1748, 768])"
            ]
          },
          "metadata": {},
          "execution_count": 31
        }
      ],
      "source": [
        "text_chunk_embeddings.shape"
      ]
    },
    {
      "cell_type": "markdown",
      "source": [
        "Our model turns text inputs up to 384 tokens long in embedding vectors of size 768."
      ],
      "metadata": {
        "id": "lAkprCbsKfJi"
      }
    },
    {
      "cell_type": "code",
      "execution_count": 59,
      "metadata": {
        "colab": {
          "base_uri": "https://localhost:8080/"
        },
        "id": "O6sd5vW7IFnw",
        "outputId": "519e68af-3d0c-479f-d108-cfe11ab20a61"
      },
      "outputs": [
        {
          "output_type": "stream",
          "name": "stderr",
          "text": [
            "100%|██████████| 1748/1748 [00:00<00:00, 209703.20it/s]\n"
          ]
        }
      ],
      "source": [
        "for idx, item in enumerate(tqdm(chunks)):\n",
        "    item[\"embedding\"] = text_chunk_embeddings[idx]"
      ]
    },
    {
      "cell_type": "code",
      "source": [
        "text_chunk_embeddings.shape"
      ],
      "metadata": {
        "colab": {
          "base_uri": "https://localhost:8080/"
        },
        "id": "I9IR8maVMpyw",
        "outputId": "1c3e8224-88dc-43bf-a6c2-bfc9958efc8a"
      },
      "execution_count": 60,
      "outputs": [
        {
          "output_type": "execute_result",
          "data": {
            "text/plain": [
              "torch.Size([1748, 768])"
            ]
          },
          "metadata": {},
          "execution_count": 60
        }
      ]
    },
    {
      "cell_type": "code",
      "source": [
        "text_chunks_and_embeddings_df = pd.DataFrame(chunks)"
      ],
      "metadata": {
        "id": "86FmhE7VOY0u"
      },
      "execution_count": 61,
      "outputs": []
    },
    {
      "cell_type": "code",
      "execution_count": 47,
      "metadata": {
        "id": "qZuhywAbIFnw"
      },
      "outputs": [],
      "source": [
        "embeddings_df_save_path = \"text_chunks_and_embeddings_df.csv\"\n",
        "text_chunks_and_embeddings_df.to_csv(embeddings_df_save_path, index=False)"
      ]
    },
    {
      "cell_type": "markdown",
      "source": [
        "Since our dataset is relatively small (1748 examples), i'm not going to use a vector database to store them."
      ],
      "metadata": {
        "id": "dvflYGDEKs-o"
      }
    },
    {
      "cell_type": "code",
      "source": [
        "import torch\n",
        "embeddings_as_list_of_tensors = text_chunks_and_embeddings_df['embedding'].tolist()\n",
        "embeddings = torch.stack(embeddings_as_list_of_tensors).to(\"cuda\")\n",
        "\n",
        "print(embeddings.shape)"
      ],
      "metadata": {
        "colab": {
          "base_uri": "https://localhost:8080/"
        },
        "id": "ZzWbkSyASBoQ",
        "outputId": "498eab2e-a12d-4e7b-8f3e-f478c34b5809"
      },
      "execution_count": 81,
      "outputs": [
        {
          "output_type": "stream",
          "name": "stdout",
          "text": [
            "torch.Size([1748, 768])\n"
          ]
        }
      ]
    },
    {
      "cell_type": "markdown",
      "source": [
        "# Semantic Search"
      ],
      "metadata": {
        "id": "S-IKXuWITEOK"
      }
    },
    {
      "cell_type": "markdown",
      "source": [
        "The 2 most common vector similarity metrics you'll across are the dot product and cosine similarity. The **main difference** between them is that **cosine similarity has a normalization step**.\n",
        "\n",
        "For text similarity, you generally want to use cosine similarity as you are after the semantic measurements (direction) rather than magnitude.\n",
        "\n",
        "In **our case**, our embedding model all-mpnet-base-v2 outputs **normalized outputs** so dot product and cosine similarity return the same results."
      ],
      "metadata": {
        "id": "1g6G06ZkXzMo"
      }
    },
    {
      "cell_type": "code",
      "source": [
        "query = \"what are the macronutrients functions\"\n",
        "k=5"
      ],
      "metadata": {
        "id": "rMmDmqO4TI98"
      },
      "execution_count": 89,
      "outputs": []
    },
    {
      "cell_type": "code",
      "source": [
        "text_chunks_and_embedding_df[\"embedding\"] = text_chunks_and_embedding_df[\"embedding\"].apply(lambda x: np.fromstring(x.strip(\"[]\"), sep=\" \"))\n",
        "pages_and_chunks = text_chunks_and_embedding_df.to_dict(orient=\"records\")"
      ],
      "metadata": {
        "id": "DBCEta3iv33t"
      },
      "execution_count": null,
      "outputs": []
    },
    {
      "cell_type": "code",
      "source": [
        "import textwrap\n",
        "from sentence_transformers import util\n",
        "\n",
        "\n",
        "def get_dotproduct_results(query,k,embeddings):\n",
        "  query_embedding = embedding_model.encode(query, convert_to_tensor=True)\n",
        "  dot_scores = util.dot_score(a=query_embedding, b=embeddings)[0]\n",
        "  scores,indices = torch.topk(dot_scores, k=k)\n",
        "  return scores,indices\n",
        "def print_responses()\n",
        "  scores,indices=get_dotproduct_results(query,k,embeddings)\n",
        "  print(\"Results:\")\n",
        "  for score, idx in zip(scores,indices):\n",
        "      print(f\"Score: {score:.4f}\")\n",
        "      idx = idx.item()\n",
        "      print(\"Text: \",textwrap.fill(pages_and_chunks[\"sentence_chunk\"][idx],80))\n",
        "      print(f\"Page number: {pages_and_chunks['page_number'][idx]}\")\n",
        "      print(\"\\n\")\n",
        "\n",
        "get_dotproduct_results(query,k)"
      ],
      "metadata": {
        "colab": {
          "base_uri": "https://localhost:8080/"
        },
        "id": "MqyRPHz5UUCb",
        "outputId": "fa97ec20-4585-43f7-e95c-3f87a3f1e052"
      },
      "execution_count": 99,
      "outputs": [
        {
          "output_type": "stream",
          "name": "stdout",
          "text": [
            "Results:\n",
            "Score: 0.6817\n",
            "Text:  macronutrients nutrients that are needed in large amounts are called\n",
            "macronutrients.there are three classes of macronutrients: carbohydrates, lipids,\n",
            "and proteins.these can be metabolically processed into cellular energy.the\n",
            "energy from macronutrients comes from their chemical bonds.this chemical energy\n",
            "is converted into cellular energy that is then utilized to perform work,\n",
            "allowing our bodies to conduct their basic functions.a unit of measurement of\n",
            "food energy is the calorie.on nutrition food labels the amount given for\n",
            "“calories” is actually equivalent to each calorie multiplied by one thousand.a\n",
            "kilocalorie (one thousand calories, denoted with a small “c”) is synonymous with\n",
            "the “calorie” (with a capital “c”) on nutrition food labels.water is also a\n",
            "macronutrient in the sense that you require a large amount of it, but unlike the\n",
            "other macronutrients, it does not yield calories.carbohydrates carbohydrates are\n",
            "molecules composed of carbon, hydrogen, and oxygen.\n",
            "Page number: 47\n",
            "\n",
            "\n",
            "Score: 0.6559\n",
            "Text:  water there is one other nutrient that we must have in large quantities:\n",
            "water.water does not contain carbon, but is composed of two hydrogens and one\n",
            "oxygen per molecule of water.more than 60 percent of your total body weight is\n",
            "water.without it, nothing could be transported in or out of the body, chemical\n",
            "reactions would not occur, organs would not be cushioned, and body temperature\n",
            "would fluctuate widely.on average, an adult consumes just over two liters of\n",
            "water per day from food and drink combined.since water is so critical for life’s\n",
            "basic processes, the amount of water input and output is supremely important, a\n",
            "topic we will explore in detail in chapter 4.micronutrients micronutrients are\n",
            "nutrients required by the body in lesser amounts, but are still essential for\n",
            "carrying out bodily functions.micronutrients include all the essential minerals\n",
            "and vitamins.there are sixteen essential minerals and thirteen vitamins (see\n",
            "table 1.1 “minerals and their major functions” and table 1.2 “vitamins and their\n",
            "major functions” for a complete list and their major functions).in contrast to\n",
            "carbohydrates, lipids, and proteins, micronutrients are not sources of energy\n",
            "(calories), but they assist in the process as cofactors or components of enzymes\n",
            "(i.e., coenzymes).\n",
            "Page number: 50\n",
            "\n",
            "\n",
            "Score: 0.6462\n",
            "Text:  learning objectives by the end of this chapter, you will be able to: • describe\n",
            "basic concepts in nutrition • describe factors that affect your nutritional\n",
            "needs • describe the importance of research and scientific methods to\n",
            "understanding nutrition what are nutrients?the foods we eat contain\n",
            "nutrients.nutrients are substances required by the body to perform its basic\n",
            "functions.nutrients must be obtained from our diet, since the human body does\n",
            "not synthesize or produce them.nutrients have one or more of three basic\n",
            "functions: they provide energy, contribute to body structure, and/or regulate\n",
            "chemical processes in the body.these basic functions allow us to detect and\n",
            "respond to environmental surroundings, move, excrete wastes, respire (breathe),\n",
            "grow, and reproduce.there are six classes of nutrients required for the body to\n",
            "function and maintain overall health.these are carbohydrates, lipids, proteins,\n",
            "water, vitamins, and minerals.foods also contain non-nutrients that may be\n",
            "harmful (such as natural toxins common in plant foods and additives like some\n",
            "dyes and preservatives) or beneficial (such as antioxidants).4 | introduction\n",
            "Page number: 46\n",
            "\n",
            "\n",
            "Score: 0.6453\n",
            "Text:  figure 1.1 the macronutrie nts: carbohydrat es, lipids, protein, and water\n",
            "proteins proteins are macromolecules composed of chains of subunits called amino\n",
            "acids.amino acids are simple subunits composed of carbon, oxygen, hydrogen, and\n",
            "nitrogen.food sources of proteins include meats, dairy products, seafood, and a\n",
            "variety of different plant- based foods, most notably soy.the word protein comes\n",
            "from a greek word meaning “of primary importance,” which is an apt description\n",
            "of these macronutrients; they are also known colloquially as the “workhorses” of\n",
            "life.proteins provide four kilocalories of energy per gram; however providing\n",
            "energy is not protein’s most important function.proteins provide structure to\n",
            "bones, muscles and skin, and play a role in conducting most of the chemical\n",
            "reactions that take place in the body.scientists estimate that greater than one-\n",
            "hundred thousand different proteins exist within the human body.the genetic\n",
            "codes in dna are basically protein recipes that determine the order in which 20\n",
            "different amino acids are bound together to make thousands of specific\n",
            "proteins.figure 1.1 the macronutrients: carbohydrates, lipids, protein, and\n",
            "water introduction | 7\n",
            "Page number: 49\n",
            "\n",
            "\n",
            "Score: 0.6327\n",
            "Text:  vitamins major functions water-soluble thiamin (b1) coenzyme, energy metabolism\n",
            "assistance riboflavin (b2 ) coenzyme, energy metabolism assistance niacin (b3)\n",
            "coenzyme, energy metabolism assistance pantothenic acid (b5) coenzyme, energy\n",
            "metabolism assistance pyridoxine (b6) coenzyme, amino acid synthesis assistance\n",
            "biotin (b7) coenzyme, amino acid and fatty acid metabolism folate (b9) coenzyme,\n",
            "essential for growth cobalamin (b12) coenzyme, red blood cell synthesis c\n",
            "(ascorbic acid) collagen synthesis, antioxidant fat-soluble a vision,\n",
            "reproduction, immune system function d bone and teeth health maintenance, immune\n",
            "system function e antioxidant, cell membrane protection k bone and teeth health\n",
            "maintenance, blood clotting vitamin deficiencies can cause severe health\n",
            "problems and even death.for example, a deficiency in niacin causes a disease\n",
            "called pellagra, which was common in the early twentieth century in some parts\n",
            "of america.the common signs and symptoms of pellagra are known as the\n",
            "“4d’s—diarrhea, dermatitis, dementia, and death.”until scientists found out that\n",
            "better diets relieved the signs and symptoms of pellagra, many people with the\n",
            "disease ended up hospitalized in insane asylums awaiting death.other vitamins\n",
            "were also found to prevent certain disorders and diseases such as scurvy\n",
            "(vitamin c), night blindness vitamin a, and rickets (vitamin d).table 1.3\n",
            "functions of nutrients introduction | 11\n",
            "Page number: 53\n",
            "\n",
            "\n"
          ]
        }
      ]
    },
    {
      "cell_type": "markdown",
      "source": [
        "# Loading the LLM locally"
      ],
      "metadata": {
        "id": "3ZmpC6oVYmGu"
      }
    },
    {
      "cell_type": "code",
      "source": [
        "import torch\n",
        "gpu_memory_bytes = torch.cuda.get_device_properties(0).total_memory\n",
        "gpu_memory_gb = round(gpu_memory_bytes / (2**30))\n",
        "print(f\"Available GPU memory: {gpu_memory_gb} GB\")"
      ],
      "metadata": {
        "id": "1ncCdjvVYlM5"
      },
      "execution_count": null,
      "outputs": []
    },
    {
      "cell_type": "code",
      "source": [
        "if gpu_memory_gb < 5.1:\n",
        "    print(f\"Your available GPU memory is {gpu_memory_gb}GB, you may not have enough memory to run a Gemma LLM locally without quantization.\")\n",
        "elif gpu_memory_gb < 8.1:\n",
        "    print(f\"GPU memory: {gpu_memory_gb} | Recommended model: Gemma 2B in 4-bit precision.\")\n",
        "    use_quantization_config = True\n",
        "    model_id = \"google/gemma-2b-it\"\n",
        "elif gpu_memory_gb < 19.0:\n",
        "    print(f\"GPU memory: {gpu_memory_gb} | Recommended model: Gemma 2B in float16 or Gemma 7B in 4-bit precision.\")\n",
        "    use_quantization_config = False\n",
        "    model_id = \"google/gemma-2b-it\"\n",
        "elif gpu_memory_gb > 19.0:\n",
        "    print(f\"GPU memory: {gpu_memory_gb} | Recommend model: Gemma 7B in 4-bit or float16 precision.\")\n",
        "    use_quantization_config = False\n",
        "    model_id = \"google/gemma-7b-it\"\n",
        "\n",
        "print(f\"use_quantization_config set to: {use_quantization_config}\")\n",
        "print(f\"model_id set to: {model_id}\")"
      ],
      "metadata": {
        "id": "rkSSuM7WbsK2"
      },
      "execution_count": null,
      "outputs": []
    },
    {
      "cell_type": "markdown",
      "source": [
        "For 15GB , we'll use the 'google/gemma-7b-it' model quantized version (4-bit precision)"
      ],
      "metadata": {
        "id": "S2_ViVEfb-VW"
      }
    },
    {
      "cell_type": "code",
      "source": [
        "use_quantization_config = True\n",
        "model_id = \"google/gemma-7b-it\""
      ],
      "metadata": {
        "id": "AqKO_HOscY9Q"
      },
      "execution_count": null,
      "outputs": []
    },
    {
      "cell_type": "code",
      "source": [
        "from transformers import AutoTokenizer, AutoModelForCausalLM\n",
        "from transformers.utils import is_flash_attn_2_available"
      ],
      "metadata": {
        "id": "aG6k3KzEd7-O"
      },
      "execution_count": null,
      "outputs": []
    },
    {
      "cell_type": "code",
      "source": [
        "!pip install bitsandbytes accelerate"
      ],
      "metadata": {
        "id": "ecM4JPKWd_yT"
      },
      "execution_count": null,
      "outputs": []
    },
    {
      "cell_type": "code",
      "source": [
        "from transformers import BitsAndBytesConfig\n",
        "quantization_config = BitsAndBytesConfig(load_in_4bit=True,bnb_4bit_compute_dtype=torch.float16)"
      ],
      "metadata": {
        "id": "WbmvqSrzeAX7"
      },
      "execution_count": null,
      "outputs": []
    },
    {
      "cell_type": "code",
      "source": [
        "!pip install flash-attn"
      ],
      "metadata": {
        "id": "pZIZqBoWeILt"
      },
      "execution_count": null,
      "outputs": []
    },
    {
      "cell_type": "code",
      "source": [
        "if (is_flash_attn_2_available()) and (torch.cuda.get_device_capability(0)[0] >= 8):\n",
        "  attn_implementation = \"flash_attention_2\"\n",
        "else:\n",
        "  attn_implementation = \"sdpa\"\n",
        "print(f\"[INFO] Using attention implementation: {attn_implementation}\")"
      ],
      "metadata": {
        "id": "bYz1p9QCeIzv"
      },
      "execution_count": null,
      "outputs": []
    },
    {
      "cell_type": "code",
      "source": [
        "tokenizer = AutoTokenizer.from_pretrained(pretrained_model_name_or_path=model_id)"
      ],
      "metadata": {
        "id": "EfnbmVLceLoy"
      },
      "execution_count": null,
      "outputs": []
    },
    {
      "cell_type": "code",
      "source": [
        "llm_model = AutoModelForCausalLM.from_pretrained(pretrained_model_name_or_path=model_id,\n",
        "                                                 torch_dtype=torch.float16, # datatype to use, we want float16\n",
        "                                                 quantization_config=quantization_config if use_quantization_config else None,\n",
        "                                                 low_cpu_mem_usage=False, # use full memory\n",
        "                                                 attn_implementation=attn_implementation) # which attention version to use"
      ],
      "metadata": {
        "id": "78AO4T2meOYx"
      },
      "execution_count": null,
      "outputs": []
    },
    {
      "cell_type": "code",
      "source": [
        "if not use_quantization_config: # quantization takes care of device setting automatically, so if it's not used, send model to GPU\n",
        "    llm_model.to(\"cuda\")"
      ],
      "metadata": {
        "id": "xkuCM9pNeSrt"
      },
      "execution_count": null,
      "outputs": []
    },
    {
      "cell_type": "code",
      "source": [
        "llm_model"
      ],
      "metadata": {
        "id": "XJ5kDTM7eWtW"
      },
      "execution_count": null,
      "outputs": []
    },
    {
      "cell_type": "code",
      "source": [
        "def get_model_mem_size(model: torch.nn.Module):\n",
        "    \"\"\"\n",
        "    Get how much memory a PyTorch model takes up.\n",
        "\n",
        "    See: https://discuss.pytorch.org/t/gpu-memory-that-model-uses/56822\n",
        "    \"\"\"\n",
        "    # Get model parameters and buffer sizes\n",
        "    mem_params = sum([param.nelement() * param.element_size() for param in model.parameters()])\n",
        "    mem_buffers = sum([buf.nelement() * buf.element_size() for buf in model.buffers()])\n",
        "\n",
        "    # Calculate various model sizes\n",
        "    model_mem_bytes = mem_params + mem_buffers # in bytes\n",
        "    model_mem_mb = model_mem_bytes / (1024**2) # in megabytes\n",
        "    model_mem_gb = model_mem_bytes / (1024**3) # in gigabytes\n",
        "\n",
        "    return {\"model_mem_bytes\": model_mem_bytes,\n",
        "            \"model_mem_mb\": round(model_mem_mb, 2),\n",
        "            \"model_mem_gb\": round(model_mem_gb, 2)}\n",
        "\n",
        "get_model_mem_size(llm_model)"
      ],
      "metadata": {
        "id": "X8orLqMoej1t"
      },
      "execution_count": null,
      "outputs": []
    },
    {
      "cell_type": "markdown",
      "source": [
        "# Prompt"
      ],
      "metadata": {
        "id": "HHrNLUSfparv"
      }
    },
    {
      "cell_type": "code",
      "source": [
        "def prompt_formatter(query,context_items) :\n",
        "\n",
        "    context = \"- \" + \"\\n- \".join([item[\"sentence_chunk\"] for item in context_items])\n",
        "\n",
        "    base_prompt = \"\"\"Based on the following context items, please answer the query.\n",
        "    Give yourself room to think by extracting relevant passages from the context before answering the query.\n",
        "    Don't return the thinking, only return the answer.\n",
        "    Make sure your answers are as explanatory as possible.\n",
        "    Use the following examples as reference for the ideal answer style.\n",
        "    \\nExample 1:\n",
        "    Query: What are the fat-soluble vitamins?\n",
        "    Answer: The fat-soluble vitamins include Vitamin A, Vitamin D, Vitamin E, and Vitamin K. These vitamins are absorbed along with fats in the diet and can be stored in the body's fatty tissue and liver for later use. Vitamin A is important for vision, immune function, and skin health. Vitamin D plays a critical role in calcium absorption and bone health. Vitamin E acts as an antioxidant, protecting cells from damage. Vitamin K is essential for blood clotting and bone metabolism.\n",
        "    \\nExample 2:\n",
        "    Query: What are the causes of type 2 diabetes?\n",
        "    Answer: Type 2 diabetes is often associated with overnutrition, particularly the overconsumption of calories leading to obesity. Factors include a diet high in refined sugars and saturated fats, which can lead to insulin resistance, a condition where the body's cells do not respond effectively to insulin. Over time, the pancreas cannot produce enough insulin to manage blood sugar levels, resulting in type 2 diabetes. Additionally, excessive caloric intake without sufficient physical activity exacerbates the risk by promoting weight gain and fat accumulation, particularly around the abdomen, further contributing to insulin resistance.\n",
        "    \\nExample 3:\n",
        "    Query: What is the importance of hydration for physical performance?\n",
        "    Answer: Hydration is crucial for physical performance because water plays key roles in maintaining blood volume, regulating body temperature, and ensuring the transport of nutrients and oxygen to cells. Adequate hydration is essential for optimal muscle function, endurance, and recovery. Dehydration can lead to decreased performance, fatigue, and increased risk of heat-related illnesses, such as heat stroke. Drinking sufficient water before, during, and after exercise helps ensure peak physical performance and recovery.\n",
        "    \\nNow use the following context items to answer the user query:\n",
        "    {context}\n",
        "    \\nRelevant passages: <extract relevant passages from the context here>\n",
        "    User query: {query}\n",
        "    Answer:\"\"\"\n",
        "    base_prompt = base_prompt.format(context=context, query=query)\n",
        "    dialogue_template = [\n",
        "        {\"role\": \"user\",\n",
        "        \"content\": base_prompt}\n",
        "    ]\n",
        "    prompt = tokenizer.apply_chat_template(conversation=dialogue_template,\n",
        "                                          tokenize=False,\n",
        "                                          add_generation_prompt=True)\n",
        "    return prompt"
      ],
      "metadata": {
        "id": "nIEOWi8QpdPD"
      },
      "execution_count": null,
      "outputs": []
    },
    {
      "cell_type": "code",
      "source": [
        "scores, indices =get_dotproduct_results(query=query,k=k,embeddings=embeddings)\n",
        "context_items = [pages_and_chunks[i] for i in indices]\n",
        "prompt = prompt_formatter(query=query,context_items=context_items)"
      ],
      "metadata": {
        "id": "J1bM7BjtrBp-"
      },
      "execution_count": null,
      "outputs": []
    },
    {
      "cell_type": "code",
      "source": [
        "input_ids = tokenizer(prompt, return_tensors=\"pt\").to(\"cuda\")\n",
        "\n",
        "# Generate an output of tokens\n",
        "outputs = llm_model.generate(**input_ids,\n",
        "                             temperature=0.7, # lower temperature = more deterministic outputs, higher temperature = more creative outputs\n",
        "                             do_sample=True, # whether or not to use sampling, see https://huyenchip.com/2024/01/16/sampling.html for more\n",
        "                             max_new_tokens=256) # how many new tokens to generate from prompt\n",
        "\n",
        "# Turn the output tokens into text\n",
        "output_text = tokenizer.decode(outputs[0])\n",
        "\n",
        "print(f\"Query: {query}\")\n",
        "print(f\"RAG answer:\\n{output_text.replace(prompt, '')}\")"
      ],
      "metadata": {
        "id": "Otv3oir5wKv5"
      },
      "execution_count": null,
      "outputs": []
    }
  ],
  "metadata": {
    "accelerator": "GPU",
    "colab": {
      "gpuType": "T4",
      "provenance": []
    },
    "kernelspec": {
      "display_name": "Python 3",
      "name": "python3"
    },
    "language_info": {
      "codemirror_mode": {
        "name": "ipython",
        "version": 3
      },
      "file_extension": ".py",
      "mimetype": "text/x-python",
      "name": "python",
      "nbconvert_exporter": "python",
      "pygments_lexer": "ipython3",
      "version": "3.12.5"
    }
  },
  "nbformat": 4,
  "nbformat_minor": 0
}